{
 "cells": [
  {
   "cell_type": "code",
   "execution_count": 1,
   "metadata": {
    "execution": {
     "iopub.execute_input": "2023-08-28T06:53:32.618295Z",
     "iopub.status.busy": "2023-08-28T06:53:32.618045Z",
     "iopub.status.idle": "2023-08-28T06:53:33.258368Z",
     "shell.execute_reply": "2023-08-28T06:53:33.257373Z",
     "shell.execute_reply.started": "2023-08-28T06:53:32.618270Z"
    },
    "id": "Od5CjVK0nbQD"
   },
   "outputs": [],
   "source": [
    "import pandas as pd\n",
    "import numpy as np\n",
    "\n",
    "from sklearn.impute import SimpleImputer\n",
    "from sklearn.preprocessing import LabelEncoder\n",
    "from sklearn.model_selection import train_test_split\n",
    "from imblearn.over_sampling import SMOTE\n",
    "from sklearn.preprocessing import StandardScaler\n",
    "from sklearn.preprocessing import RobustScaler\n",
    "from sklearn.metrics import accuracy_score, classification_report\n",
    "from sklearn.metrics import ConfusionMatrixDisplay\n",
    "import joblib\n",
    "\n",
    "from sklearn.tree import DecisionTreeClassifier\n",
    "\n",
    "import warnings\n",
    "\n",
    "warnings.filterwarnings('ignore')"
   ]
  },
  {
   "cell_type": "code",
   "execution_count": 2,
   "metadata": {
    "execution": {
     "iopub.execute_input": "2023-08-28T06:53:33.261624Z",
     "iopub.status.busy": "2023-08-28T06:53:33.259586Z",
     "iopub.status.idle": "2023-08-28T06:53:34.475188Z",
     "shell.execute_reply": "2023-08-28T06:53:34.474184Z",
     "shell.execute_reply.started": "2023-08-28T06:53:33.261588Z"
    },
    "id": "1HViBd2MnbQE"
   },
   "outputs": [],
   "source": [
    "df = pd.read_csv('african_conflicts.csv', encoding='latin-1')"
   ]
  },
  {
   "cell_type": "code",
   "execution_count": 3,
   "metadata": {
    "colab": {
     "base_uri": "https://localhost:8080/"
    },
    "execution": {
     "iopub.execute_input": "2023-08-28T06:53:34.479213Z",
     "iopub.status.busy": "2023-08-28T06:53:34.478837Z",
     "iopub.status.idle": "2023-08-28T06:53:34.486526Z",
     "shell.execute_reply": "2023-08-28T06:53:34.485588Z",
     "shell.execute_reply.started": "2023-08-28T06:53:34.479178Z"
    },
    "id": "dKlYT9FMnbQF",
    "outputId": "f0d66200-1b53-4202-e05c-5f78c9353798"
   },
   "outputs": [
    {
     "data": {
      "text/plain": [
       "(165808, 28)"
      ]
     },
     "execution_count": 3,
     "metadata": {},
     "output_type": "execute_result"
    }
   ],
   "source": [
    "df.shape"
   ]
  },
  {
   "cell_type": "code",
   "execution_count": 4,
   "metadata": {
    "colab": {
     "base_uri": "https://localhost:8080/",
     "height": 707
    },
    "execution": {
     "iopub.execute_input": "2023-08-28T06:53:34.488654Z",
     "iopub.status.busy": "2023-08-28T06:53:34.487746Z",
     "iopub.status.idle": "2023-08-28T06:53:34.518488Z",
     "shell.execute_reply": "2023-08-28T06:53:34.517432Z",
     "shell.execute_reply.started": "2023-08-28T06:53:34.488620Z"
    },
    "id": "Wecot06LnbQF",
    "outputId": "0397fe2b-0e9c-4dbb-b499-c67d6f3b8d8a"
   },
   "outputs": [
    {
     "data": {
      "text/html": [
       "<div>\n",
       "<style scoped>\n",
       "    .dataframe tbody tr th:only-of-type {\n",
       "        vertical-align: middle;\n",
       "    }\n",
       "\n",
       "    .dataframe tbody tr th {\n",
       "        vertical-align: top;\n",
       "    }\n",
       "\n",
       "    .dataframe thead th {\n",
       "        text-align: right;\n",
       "    }\n",
       "</style>\n",
       "<table border=\"1\" class=\"dataframe\">\n",
       "  <thead>\n",
       "    <tr style=\"text-align: right;\">\n",
       "      <th></th>\n",
       "      <th>ACTOR1</th>\n",
       "      <th>ACTOR1_ID</th>\n",
       "      <th>ACTOR2</th>\n",
       "      <th>ACTOR2_ID</th>\n",
       "      <th>ACTOR_DYAD_ID</th>\n",
       "      <th>ADMIN1</th>\n",
       "      <th>ADMIN2</th>\n",
       "      <th>ADMIN3</th>\n",
       "      <th>ALLY_ACTOR_1</th>\n",
       "      <th>ALLY_ACTOR_2</th>\n",
       "      <th>...</th>\n",
       "      <th>INTER1</th>\n",
       "      <th>INTER2</th>\n",
       "      <th>INTERACTION</th>\n",
       "      <th>LATITUDE</th>\n",
       "      <th>LOCATION</th>\n",
       "      <th>LONGITUDE</th>\n",
       "      <th>NOTES</th>\n",
       "      <th>SOURCE</th>\n",
       "      <th>TIME_PRECISION</th>\n",
       "      <th>YEAR</th>\n",
       "    </tr>\n",
       "  </thead>\n",
       "  <tbody>\n",
       "    <tr>\n",
       "      <th>0</th>\n",
       "      <td>Police Forces of Algeria (1999-)</td>\n",
       "      <td>NaN</td>\n",
       "      <td>Civilians (Algeria)</td>\n",
       "      <td>NaN</td>\n",
       "      <td>NaN</td>\n",
       "      <td>Tizi Ouzou</td>\n",
       "      <td>Beni-Douala</td>\n",
       "      <td>NaN</td>\n",
       "      <td>NaN</td>\n",
       "      <td>Berber Ethnic Group (Algeria)</td>\n",
       "      <td>...</td>\n",
       "      <td>1</td>\n",
       "      <td>7</td>\n",
       "      <td>17</td>\n",
       "      <td>36.61954</td>\n",
       "      <td>Beni Douala</td>\n",
       "      <td>4.08282</td>\n",
       "      <td>A Berber student was shot while in police cust...</td>\n",
       "      <td>Associated Press Online</td>\n",
       "      <td>1</td>\n",
       "      <td>2001</td>\n",
       "    </tr>\n",
       "    <tr>\n",
       "      <th>1</th>\n",
       "      <td>Rioters (Algeria)</td>\n",
       "      <td>NaN</td>\n",
       "      <td>Police Forces of Algeria (1999-)</td>\n",
       "      <td>NaN</td>\n",
       "      <td>NaN</td>\n",
       "      <td>Tizi Ouzou</td>\n",
       "      <td>Tizi Ouzou</td>\n",
       "      <td>NaN</td>\n",
       "      <td>Berber Ethnic Group (Algeria)</td>\n",
       "      <td>NaN</td>\n",
       "      <td>...</td>\n",
       "      <td>5</td>\n",
       "      <td>1</td>\n",
       "      <td>15</td>\n",
       "      <td>36.71183</td>\n",
       "      <td>Tizi Ouzou</td>\n",
       "      <td>4.04591</td>\n",
       "      <td>Riots were reported in numerous villages in Ka...</td>\n",
       "      <td>Kabylie report</td>\n",
       "      <td>1</td>\n",
       "      <td>2001</td>\n",
       "    </tr>\n",
       "    <tr>\n",
       "      <th>2</th>\n",
       "      <td>Protesters (Algeria)</td>\n",
       "      <td>NaN</td>\n",
       "      <td>NaN</td>\n",
       "      <td>NaN</td>\n",
       "      <td>NaN</td>\n",
       "      <td>Bejaia</td>\n",
       "      <td>Amizour</td>\n",
       "      <td>NaN</td>\n",
       "      <td>Students (Algeria)</td>\n",
       "      <td>NaN</td>\n",
       "      <td>...</td>\n",
       "      <td>6</td>\n",
       "      <td>0</td>\n",
       "      <td>60</td>\n",
       "      <td>36.64022</td>\n",
       "      <td>Amizour</td>\n",
       "      <td>4.90131</td>\n",
       "      <td>Students protested in the Amizour area. At lea...</td>\n",
       "      <td>Crisis Group</td>\n",
       "      <td>1</td>\n",
       "      <td>2001</td>\n",
       "    </tr>\n",
       "    <tr>\n",
       "      <th>3</th>\n",
       "      <td>Rioters (Algeria)</td>\n",
       "      <td>NaN</td>\n",
       "      <td>Police Forces of Algeria (1999-)</td>\n",
       "      <td>NaN</td>\n",
       "      <td>NaN</td>\n",
       "      <td>Bejaia</td>\n",
       "      <td>Amizour</td>\n",
       "      <td>NaN</td>\n",
       "      <td>Berber Ethnic Group (Algeria)</td>\n",
       "      <td>NaN</td>\n",
       "      <td>...</td>\n",
       "      <td>5</td>\n",
       "      <td>1</td>\n",
       "      <td>15</td>\n",
       "      <td>36.64022</td>\n",
       "      <td>Amizour</td>\n",
       "      <td>4.90131</td>\n",
       "      <td>Rioters threw molotov cocktails, rocks and bur...</td>\n",
       "      <td>Kabylie report</td>\n",
       "      <td>1</td>\n",
       "      <td>2001</td>\n",
       "    </tr>\n",
       "    <tr>\n",
       "      <th>4</th>\n",
       "      <td>Rioters (Algeria)</td>\n",
       "      <td>NaN</td>\n",
       "      <td>Police Forces of Algeria (1999-)</td>\n",
       "      <td>NaN</td>\n",
       "      <td>NaN</td>\n",
       "      <td>Tizi Ouzou</td>\n",
       "      <td>Beni-Douala</td>\n",
       "      <td>NaN</td>\n",
       "      <td>Berber Ethnic Group (Algeria)</td>\n",
       "      <td>NaN</td>\n",
       "      <td>...</td>\n",
       "      <td>5</td>\n",
       "      <td>1</td>\n",
       "      <td>15</td>\n",
       "      <td>36.61954</td>\n",
       "      <td>Beni Douala</td>\n",
       "      <td>4.08282</td>\n",
       "      <td>Rioters threw molotov cocktails, rocks and bur...</td>\n",
       "      <td>Kabylie report</td>\n",
       "      <td>1</td>\n",
       "      <td>2001</td>\n",
       "    </tr>\n",
       "  </tbody>\n",
       "</table>\n",
       "<p>5 rows × 28 columns</p>\n",
       "</div>"
      ],
      "text/plain": [
       "                             ACTOR1  ACTOR1_ID  \\\n",
       "0  Police Forces of Algeria (1999-)        NaN   \n",
       "1                 Rioters (Algeria)        NaN   \n",
       "2              Protesters (Algeria)        NaN   \n",
       "3                 Rioters (Algeria)        NaN   \n",
       "4                 Rioters (Algeria)        NaN   \n",
       "\n",
       "                             ACTOR2  ACTOR2_ID ACTOR_DYAD_ID      ADMIN1  \\\n",
       "0               Civilians (Algeria)        NaN           NaN  Tizi Ouzou   \n",
       "1  Police Forces of Algeria (1999-)        NaN           NaN  Tizi Ouzou   \n",
       "2                               NaN        NaN           NaN      Bejaia   \n",
       "3  Police Forces of Algeria (1999-)        NaN           NaN      Bejaia   \n",
       "4  Police Forces of Algeria (1999-)        NaN           NaN  Tizi Ouzou   \n",
       "\n",
       "        ADMIN2 ADMIN3                   ALLY_ACTOR_1  \\\n",
       "0  Beni-Douala    NaN                            NaN   \n",
       "1   Tizi Ouzou    NaN  Berber Ethnic Group (Algeria)   \n",
       "2      Amizour    NaN             Students (Algeria)   \n",
       "3      Amizour    NaN  Berber Ethnic Group (Algeria)   \n",
       "4  Beni-Douala    NaN  Berber Ethnic Group (Algeria)   \n",
       "\n",
       "                    ALLY_ACTOR_2  ... INTER1 INTER2 INTERACTION  LATITUDE  \\\n",
       "0  Berber Ethnic Group (Algeria)  ...      1      7          17  36.61954   \n",
       "1                            NaN  ...      5      1          15  36.71183   \n",
       "2                            NaN  ...      6      0          60  36.64022   \n",
       "3                            NaN  ...      5      1          15  36.64022   \n",
       "4                            NaN  ...      5      1          15  36.61954   \n",
       "\n",
       "      LOCATION  LONGITUDE                                              NOTES  \\\n",
       "0  Beni Douala    4.08282  A Berber student was shot while in police cust...   \n",
       "1   Tizi Ouzou    4.04591  Riots were reported in numerous villages in Ka...   \n",
       "2      Amizour    4.90131  Students protested in the Amizour area. At lea...   \n",
       "3      Amizour    4.90131  Rioters threw molotov cocktails, rocks and bur...   \n",
       "4  Beni Douala    4.08282  Rioters threw molotov cocktails, rocks and bur...   \n",
       "\n",
       "                    SOURCE  TIME_PRECISION  YEAR  \n",
       "0  Associated Press Online               1  2001  \n",
       "1           Kabylie report               1  2001  \n",
       "2             Crisis Group               1  2001  \n",
       "3           Kabylie report               1  2001  \n",
       "4           Kabylie report               1  2001  \n",
       "\n",
       "[5 rows x 28 columns]"
      ]
     },
     "execution_count": 4,
     "metadata": {},
     "output_type": "execute_result"
    }
   ],
   "source": [
    "df.head()"
   ]
  },
  {
   "cell_type": "code",
   "execution_count": 5,
   "metadata": {
    "colab": {
     "base_uri": "https://localhost:8080/"
    },
    "execution": {
     "iopub.execute_input": "2023-08-28T06:53:34.520358Z",
     "iopub.status.busy": "2023-08-28T06:53:34.519958Z",
     "iopub.status.idle": "2023-08-28T06:53:34.527393Z",
     "shell.execute_reply": "2023-08-28T06:53:34.526376Z",
     "shell.execute_reply.started": "2023-08-28T06:53:34.520323Z"
    },
    "id": "1Sxu4aoCnbQG",
    "outputId": "24342931-d30b-45b9-d86d-86e7604ebe53"
   },
   "outputs": [
    {
     "data": {
      "text/plain": [
       "Index(['ACTOR1', 'ACTOR1_ID', 'ACTOR2', 'ACTOR2_ID', 'ACTOR_DYAD_ID', 'ADMIN1',\n",
       "       'ADMIN2', 'ADMIN3', 'ALLY_ACTOR_1', 'ALLY_ACTOR_2', 'COUNTRY',\n",
       "       'EVENT_DATE', 'EVENT_ID_CNTY', 'EVENT_ID_NO_CNTY', 'EVENT_TYPE',\n",
       "       'FATALITIES', 'GEO_PRECISION', 'GWNO', 'INTER1', 'INTER2',\n",
       "       'INTERACTION', 'LATITUDE', 'LOCATION', 'LONGITUDE', 'NOTES', 'SOURCE',\n",
       "       'TIME_PRECISION', 'YEAR'],\n",
       "      dtype='object')"
      ]
     },
     "execution_count": 5,
     "metadata": {},
     "output_type": "execute_result"
    }
   ],
   "source": [
    "df.columns"
   ]
  },
  {
   "cell_type": "code",
   "execution_count": 6,
   "metadata": {
    "colab": {
     "base_uri": "https://localhost:8080/"
    },
    "execution": {
     "iopub.execute_input": "2023-08-28T06:53:34.529864Z",
     "iopub.status.busy": "2023-08-28T06:53:34.529039Z",
     "iopub.status.idle": "2023-08-28T06:53:35.270904Z",
     "shell.execute_reply": "2023-08-28T06:53:35.269780Z",
     "shell.execute_reply.started": "2023-08-28T06:53:34.529825Z"
    },
    "id": "X5y-FCj9nbQG",
    "outputId": "42cc6980-a744-4c77-c61f-4e38413a05e6"
   },
   "outputs": [
    {
     "name": "stdout",
     "output_type": "stream",
     "text": [
      "<class 'pandas.core.frame.DataFrame'>\n",
      "RangeIndex: 165808 entries, 0 to 165807\n",
      "Data columns (total 28 columns):\n",
      " #   Column            Non-Null Count   Dtype  \n",
      "---  ------            --------------   -----  \n",
      " 0   ACTOR1            165808 non-null  object \n",
      " 1   ACTOR1_ID         140747 non-null  float64\n",
      " 2   ACTOR2            122255 non-null  object \n",
      " 3   ACTOR2_ID         140747 non-null  float64\n",
      " 4   ACTOR_DYAD_ID     140747 non-null  object \n",
      " 5   ADMIN1            165808 non-null  object \n",
      " 6   ADMIN2            165676 non-null  object \n",
      " 7   ADMIN3            86933 non-null   object \n",
      " 8   ALLY_ACTOR_1      28144 non-null   object \n",
      " 9   ALLY_ACTOR_2      19651 non-null   object \n",
      " 10  COUNTRY           165808 non-null  object \n",
      " 11  EVENT_DATE        165808 non-null  object \n",
      " 12  EVENT_ID_CNTY     165808 non-null  object \n",
      " 13  EVENT_ID_NO_CNTY  140747 non-null  float64\n",
      " 14  EVENT_TYPE        165808 non-null  object \n",
      " 15  FATALITIES        165808 non-null  int64  \n",
      " 16  GEO_PRECISION     165808 non-null  int64  \n",
      " 17  GWNO              165808 non-null  int64  \n",
      " 18  INTER1            165808 non-null  int64  \n",
      " 19  INTER2            165808 non-null  int64  \n",
      " 20  INTERACTION       165808 non-null  int64  \n",
      " 21  LATITUDE          165808 non-null  object \n",
      " 22  LOCATION          165805 non-null  object \n",
      " 23  LONGITUDE         165808 non-null  object \n",
      " 24  NOTES             155581 non-null  object \n",
      " 25  SOURCE            165635 non-null  object \n",
      " 26  TIME_PRECISION    165808 non-null  int64  \n",
      " 27  YEAR              165808 non-null  int64  \n",
      "dtypes: float64(3), int64(8), object(17)\n",
      "memory usage: 35.4+ MB\n"
     ]
    }
   ],
   "source": [
    "df.info()"
   ]
  },
  {
   "cell_type": "code",
   "execution_count": 7,
   "metadata": {
    "execution": {
     "iopub.execute_input": "2023-08-28T06:53:35.275290Z",
     "iopub.status.busy": "2023-08-28T06:53:35.272224Z",
     "iopub.status.idle": "2023-08-28T06:53:38.184400Z",
     "shell.execute_reply": "2023-08-28T06:53:38.183349Z",
     "shell.execute_reply.started": "2023-08-28T06:53:35.275248Z"
    },
    "id": "rIC7527PnbQH"
   },
   "outputs": [],
   "source": [
    "data_info = pd.DataFrame({\n",
    "    'unique': df.nunique(),\n",
    "    'precentage unique': df.nunique() / len(df) * 100,\n",
    "    'null': df.isnull().sum(),\n",
    "    'precentage null': df.isnull().sum() / len(df) * 100,\n",
    "    'skew': round(df.skew(), 2)\n",
    "})"
   ]
  },
  {
   "cell_type": "code",
   "execution_count": 8,
   "metadata": {
    "colab": {
     "base_uri": "https://localhost:8080/",
     "height": 927
    },
    "execution": {
     "iopub.execute_input": "2023-08-28T06:53:38.186585Z",
     "iopub.status.busy": "2023-08-28T06:53:38.186157Z",
     "iopub.status.idle": "2023-08-28T06:53:38.204545Z",
     "shell.execute_reply": "2023-08-28T06:53:38.203441Z",
     "shell.execute_reply.started": "2023-08-28T06:53:38.186546Z"
    },
    "id": "yL49MmdvnbQH",
    "outputId": "b796f22f-1172-4072-b554-23d885b96f37"
   },
   "outputs": [
    {
     "data": {
      "text/html": [
       "<div>\n",
       "<style scoped>\n",
       "    .dataframe tbody tr th:only-of-type {\n",
       "        vertical-align: middle;\n",
       "    }\n",
       "\n",
       "    .dataframe tbody tr th {\n",
       "        vertical-align: top;\n",
       "    }\n",
       "\n",
       "    .dataframe thead th {\n",
       "        text-align: right;\n",
       "    }\n",
       "</style>\n",
       "<table border=\"1\" class=\"dataframe\">\n",
       "  <thead>\n",
       "    <tr style=\"text-align: right;\">\n",
       "      <th></th>\n",
       "      <th>unique</th>\n",
       "      <th>precentage unique</th>\n",
       "      <th>null</th>\n",
       "      <th>precentage null</th>\n",
       "      <th>skew</th>\n",
       "    </tr>\n",
       "  </thead>\n",
       "  <tbody>\n",
       "    <tr>\n",
       "      <th>ACTOR1</th>\n",
       "      <td>3288</td>\n",
       "      <td>1.983017</td>\n",
       "      <td>0</td>\n",
       "      <td>0.000000</td>\n",
       "      <td>NaN</td>\n",
       "    </tr>\n",
       "    <tr>\n",
       "      <th>ACTOR1_ID</th>\n",
       "      <td>3032</td>\n",
       "      <td>1.828621</td>\n",
       "      <td>25061</td>\n",
       "      <td>15.114470</td>\n",
       "      <td>-0.92</td>\n",
       "    </tr>\n",
       "    <tr>\n",
       "      <th>ACTOR2</th>\n",
       "      <td>2827</td>\n",
       "      <td>1.704984</td>\n",
       "      <td>43553</td>\n",
       "      <td>26.267128</td>\n",
       "      <td>NaN</td>\n",
       "    </tr>\n",
       "    <tr>\n",
       "      <th>ACTOR2_ID</th>\n",
       "      <td>2558</td>\n",
       "      <td>1.542748</td>\n",
       "      <td>25061</td>\n",
       "      <td>15.114470</td>\n",
       "      <td>0.79</td>\n",
       "    </tr>\n",
       "    <tr>\n",
       "      <th>ACTOR_DYAD_ID</th>\n",
       "      <td>9520</td>\n",
       "      <td>5.741581</td>\n",
       "      <td>25061</td>\n",
       "      <td>15.114470</td>\n",
       "      <td>NaN</td>\n",
       "    </tr>\n",
       "    <tr>\n",
       "      <th>ADMIN1</th>\n",
       "      <td>735</td>\n",
       "      <td>0.443284</td>\n",
       "      <td>0</td>\n",
       "      <td>0.000000</td>\n",
       "      <td>NaN</td>\n",
       "    </tr>\n",
       "    <tr>\n",
       "      <th>ADMIN2</th>\n",
       "      <td>4085</td>\n",
       "      <td>2.463693</td>\n",
       "      <td>132</td>\n",
       "      <td>0.079610</td>\n",
       "      <td>NaN</td>\n",
       "    </tr>\n",
       "    <tr>\n",
       "      <th>ADMIN3</th>\n",
       "      <td>4795</td>\n",
       "      <td>2.891899</td>\n",
       "      <td>78875</td>\n",
       "      <td>47.570081</td>\n",
       "      <td>NaN</td>\n",
       "    </tr>\n",
       "    <tr>\n",
       "      <th>ALLY_ACTOR_1</th>\n",
       "      <td>3272</td>\n",
       "      <td>1.973367</td>\n",
       "      <td>137664</td>\n",
       "      <td>83.026151</td>\n",
       "      <td>NaN</td>\n",
       "    </tr>\n",
       "    <tr>\n",
       "      <th>ALLY_ACTOR_2</th>\n",
       "      <td>2759</td>\n",
       "      <td>1.663973</td>\n",
       "      <td>146157</td>\n",
       "      <td>88.148340</td>\n",
       "      <td>NaN</td>\n",
       "    </tr>\n",
       "    <tr>\n",
       "      <th>COUNTRY</th>\n",
       "      <td>50</td>\n",
       "      <td>0.030155</td>\n",
       "      <td>0</td>\n",
       "      <td>0.000000</td>\n",
       "      <td>NaN</td>\n",
       "    </tr>\n",
       "    <tr>\n",
       "      <th>EVENT_DATE</th>\n",
       "      <td>7639</td>\n",
       "      <td>4.607136</td>\n",
       "      <td>0</td>\n",
       "      <td>0.000000</td>\n",
       "      <td>NaN</td>\n",
       "    </tr>\n",
       "    <tr>\n",
       "      <th>EVENT_ID_CNTY</th>\n",
       "      <td>155591</td>\n",
       "      <td>93.838054</td>\n",
       "      <td>0</td>\n",
       "      <td>0.000000</td>\n",
       "      <td>NaN</td>\n",
       "    </tr>\n",
       "    <tr>\n",
       "      <th>EVENT_ID_NO_CNTY</th>\n",
       "      <td>140747</td>\n",
       "      <td>84.885530</td>\n",
       "      <td>25061</td>\n",
       "      <td>15.114470</td>\n",
       "      <td>-0.00</td>\n",
       "    </tr>\n",
       "    <tr>\n",
       "      <th>EVENT_TYPE</th>\n",
       "      <td>14</td>\n",
       "      <td>0.008444</td>\n",
       "      <td>0</td>\n",
       "      <td>0.000000</td>\n",
       "      <td>NaN</td>\n",
       "    </tr>\n",
       "    <tr>\n",
       "      <th>FATALITIES</th>\n",
       "      <td>263</td>\n",
       "      <td>0.158617</td>\n",
       "      <td>0</td>\n",
       "      <td>0.000000</td>\n",
       "      <td>220.54</td>\n",
       "    </tr>\n",
       "    <tr>\n",
       "      <th>GEO_PRECISION</th>\n",
       "      <td>3</td>\n",
       "      <td>0.001809</td>\n",
       "      <td>0</td>\n",
       "      <td>0.000000</td>\n",
       "      <td>1.90</td>\n",
       "    </tr>\n",
       "    <tr>\n",
       "      <th>GWNO</th>\n",
       "      <td>49</td>\n",
       "      <td>0.029552</td>\n",
       "      <td>0</td>\n",
       "      <td>0.000000</td>\n",
       "      <td>0.31</td>\n",
       "    </tr>\n",
       "    <tr>\n",
       "      <th>INTER1</th>\n",
       "      <td>8</td>\n",
       "      <td>0.004825</td>\n",
       "      <td>0</td>\n",
       "      <td>0.000000</td>\n",
       "      <td>0.46</td>\n",
       "    </tr>\n",
       "    <tr>\n",
       "      <th>INTER2</th>\n",
       "      <td>9</td>\n",
       "      <td>0.005428</td>\n",
       "      <td>0</td>\n",
       "      <td>0.000000</td>\n",
       "      <td>0.35</td>\n",
       "    </tr>\n",
       "    <tr>\n",
       "      <th>INTERACTION</th>\n",
       "      <td>43</td>\n",
       "      <td>0.025934</td>\n",
       "      <td>0</td>\n",
       "      <td>0.000000</td>\n",
       "      <td>0.49</td>\n",
       "    </tr>\n",
       "    <tr>\n",
       "      <th>LATITUDE</th>\n",
       "      <td>20785</td>\n",
       "      <td>12.535583</td>\n",
       "      <td>0</td>\n",
       "      <td>0.000000</td>\n",
       "      <td>NaN</td>\n",
       "    </tr>\n",
       "    <tr>\n",
       "      <th>LOCATION</th>\n",
       "      <td>17936</td>\n",
       "      <td>10.817331</td>\n",
       "      <td>3</td>\n",
       "      <td>0.001809</td>\n",
       "      <td>NaN</td>\n",
       "    </tr>\n",
       "    <tr>\n",
       "      <th>LONGITUDE</th>\n",
       "      <td>21210</td>\n",
       "      <td>12.791904</td>\n",
       "      <td>0</td>\n",
       "      <td>0.000000</td>\n",
       "      <td>NaN</td>\n",
       "    </tr>\n",
       "    <tr>\n",
       "      <th>NOTES</th>\n",
       "      <td>126318</td>\n",
       "      <td>76.183296</td>\n",
       "      <td>10227</td>\n",
       "      <td>6.167977</td>\n",
       "      <td>NaN</td>\n",
       "    </tr>\n",
       "    <tr>\n",
       "      <th>SOURCE</th>\n",
       "      <td>11908</td>\n",
       "      <td>7.181801</td>\n",
       "      <td>173</td>\n",
       "      <td>0.104338</td>\n",
       "      <td>NaN</td>\n",
       "    </tr>\n",
       "    <tr>\n",
       "      <th>TIME_PRECISION</th>\n",
       "      <td>3</td>\n",
       "      <td>0.001809</td>\n",
       "      <td>0</td>\n",
       "      <td>0.000000</td>\n",
       "      <td>3.27</td>\n",
       "    </tr>\n",
       "    <tr>\n",
       "      <th>YEAR</th>\n",
       "      <td>21</td>\n",
       "      <td>0.012665</td>\n",
       "      <td>0</td>\n",
       "      <td>0.000000</td>\n",
       "      <td>-0.98</td>\n",
       "    </tr>\n",
       "  </tbody>\n",
       "</table>\n",
       "</div>"
      ],
      "text/plain": [
       "                  unique  precentage unique    null  precentage null    skew\n",
       "ACTOR1              3288           1.983017       0         0.000000     NaN\n",
       "ACTOR1_ID           3032           1.828621   25061        15.114470   -0.92\n",
       "ACTOR2              2827           1.704984   43553        26.267128     NaN\n",
       "ACTOR2_ID           2558           1.542748   25061        15.114470    0.79\n",
       "ACTOR_DYAD_ID       9520           5.741581   25061        15.114470     NaN\n",
       "ADMIN1               735           0.443284       0         0.000000     NaN\n",
       "ADMIN2              4085           2.463693     132         0.079610     NaN\n",
       "ADMIN3              4795           2.891899   78875        47.570081     NaN\n",
       "ALLY_ACTOR_1        3272           1.973367  137664        83.026151     NaN\n",
       "ALLY_ACTOR_2        2759           1.663973  146157        88.148340     NaN\n",
       "COUNTRY               50           0.030155       0         0.000000     NaN\n",
       "EVENT_DATE          7639           4.607136       0         0.000000     NaN\n",
       "EVENT_ID_CNTY     155591          93.838054       0         0.000000     NaN\n",
       "EVENT_ID_NO_CNTY  140747          84.885530   25061        15.114470   -0.00\n",
       "EVENT_TYPE            14           0.008444       0         0.000000     NaN\n",
       "FATALITIES           263           0.158617       0         0.000000  220.54\n",
       "GEO_PRECISION          3           0.001809       0         0.000000    1.90\n",
       "GWNO                  49           0.029552       0         0.000000    0.31\n",
       "INTER1                 8           0.004825       0         0.000000    0.46\n",
       "INTER2                 9           0.005428       0         0.000000    0.35\n",
       "INTERACTION           43           0.025934       0         0.000000    0.49\n",
       "LATITUDE           20785          12.535583       0         0.000000     NaN\n",
       "LOCATION           17936          10.817331       3         0.001809     NaN\n",
       "LONGITUDE          21210          12.791904       0         0.000000     NaN\n",
       "NOTES             126318          76.183296   10227         6.167977     NaN\n",
       "SOURCE             11908           7.181801     173         0.104338     NaN\n",
       "TIME_PRECISION         3           0.001809       0         0.000000    3.27\n",
       "YEAR                  21           0.012665       0         0.000000   -0.98"
      ]
     },
     "execution_count": 8,
     "metadata": {},
     "output_type": "execute_result"
    }
   ],
   "source": [
    "data_info"
   ]
  },
  {
   "cell_type": "code",
   "execution_count": 9,
   "metadata": {
    "colab": {
     "base_uri": "https://localhost:8080/"
    },
    "execution": {
     "iopub.execute_input": "2023-08-28T06:53:38.206925Z",
     "iopub.status.busy": "2023-08-28T06:53:38.205946Z",
     "iopub.status.idle": "2023-08-28T06:53:38.219059Z",
     "shell.execute_reply": "2023-08-28T06:53:38.217987Z",
     "shell.execute_reply.started": "2023-08-28T06:53:38.206886Z"
    },
    "id": "rNs7ILT_nbQH",
    "outputId": "49dc3449-805a-4f3e-c977-b8036db15afe"
   },
   "outputs": [
    {
     "data": {
      "text/plain": [
       "0    1416RTA\n",
       "1    2229RTA\n",
       "2    2230RTA\n",
       "3    2231RTA\n",
       "4    2232RTA\n",
       "Name: EVENT_ID_CNTY, dtype: object"
      ]
     },
     "execution_count": 9,
     "metadata": {},
     "output_type": "execute_result"
    }
   ],
   "source": [
    "df['EVENT_ID_CNTY'].head()"
   ]
  },
  {
   "cell_type": "code",
   "execution_count": 10,
   "metadata": {
    "colab": {
     "base_uri": "https://localhost:8080/"
    },
    "execution": {
     "iopub.execute_input": "2023-08-28T06:53:38.221453Z",
     "iopub.status.busy": "2023-08-28T06:53:38.221016Z",
     "iopub.status.idle": "2023-08-28T06:53:38.242552Z",
     "shell.execute_reply": "2023-08-28T06:53:38.241634Z",
     "shell.execute_reply.started": "2023-08-28T06:53:38.221414Z"
    },
    "id": "HREiwgEenbQI",
    "outputId": "77fdc784-7c11-4d92-8771-7086101f4a4a"
   },
   "outputs": [
    {
     "data": {
      "text/plain": [
       "array([        nan, 1.60000e+01, 3.90000e+01, ..., 1.37135e+05,\n",
       "       1.37136e+05, 1.39875e+05])"
      ]
     },
     "execution_count": 10,
     "metadata": {},
     "output_type": "execute_result"
    }
   ],
   "source": [
    "df['EVENT_ID_NO_CNTY'].unique()"
   ]
  },
  {
   "cell_type": "code",
   "execution_count": 11,
   "metadata": {
    "colab": {
     "base_uri": "https://localhost:8080/"
    },
    "execution": {
     "iopub.execute_input": "2023-08-28T06:53:38.246007Z",
     "iopub.status.busy": "2023-08-28T06:53:38.245723Z",
     "iopub.status.idle": "2023-08-28T06:53:38.253437Z",
     "shell.execute_reply": "2023-08-28T06:53:38.252439Z",
     "shell.execute_reply.started": "2023-08-28T06:53:38.245983Z"
    },
    "id": "BJCfBpoNnbQI",
    "outputId": "ad0fbdba-c4c5-4f53-d8bd-f76930726dff"
   },
   "outputs": [
    {
     "data": {
      "text/plain": [
       "0    Associated Press Online\n",
       "1             Kabylie report\n",
       "2               Crisis Group\n",
       "3             Kabylie report\n",
       "4             Kabylie report\n",
       "Name: SOURCE, dtype: object"
      ]
     },
     "execution_count": 11,
     "metadata": {},
     "output_type": "execute_result"
    }
   ],
   "source": [
    "df['SOURCE'].head()"
   ]
  },
  {
   "cell_type": "code",
   "execution_count": 12,
   "metadata": {
    "colab": {
     "base_uri": "https://localhost:8080/"
    },
    "execution": {
     "iopub.execute_input": "2023-08-28T06:53:38.262086Z",
     "iopub.status.busy": "2023-08-28T06:53:38.261797Z",
     "iopub.status.idle": "2023-08-28T06:53:38.268481Z",
     "shell.execute_reply": "2023-08-28T06:53:38.267505Z",
     "shell.execute_reply.started": "2023-08-28T06:53:38.262060Z"
    },
    "id": "e43oYBRSnbQJ",
    "outputId": "bf923d83-70c0-4725-bdc3-f56a2ed72491"
   },
   "outputs": [
    {
     "data": {
      "text/plain": [
       "0    1\n",
       "1    3\n",
       "2    1\n",
       "3    1\n",
       "4    1\n",
       "Name: GEO_PRECISION, dtype: int64"
      ]
     },
     "execution_count": 12,
     "metadata": {},
     "output_type": "execute_result"
    }
   ],
   "source": [
    "df['GEO_PRECISION'].head()"
   ]
  },
  {
   "cell_type": "code",
   "execution_count": null,
   "metadata": {
    "id": "0IctqAAbnbQJ"
   },
   "outputs": [],
   "source": []
  },
  {
   "cell_type": "code",
   "execution_count": 13,
   "metadata": {
    "execution": {
     "iopub.execute_input": "2023-08-28T06:53:38.270693Z",
     "iopub.status.busy": "2023-08-28T06:53:38.269782Z",
     "iopub.status.idle": "2023-08-28T06:53:38.297044Z",
     "shell.execute_reply": "2023-08-28T06:53:38.296107Z",
     "shell.execute_reply.started": "2023-08-28T06:53:38.270658Z"
    },
    "id": "A54_g3qnnbQJ"
   },
   "outputs": [],
   "source": [
    "df.drop(columns=['ALLY_ACTOR_1',\n",
    "                'ALLY_ACTOR_2',\n",
    "                'NOTES',\n",
    "                'EVENT_ID_CNTY',\n",
    "                'EVENT_ID_NO_CNTY',\n",
    "                'SOURCE',\n",
    "                'ACTOR1_ID',\n",
    "                'ACTOR2_ID'], inplace=True)"
   ]
  },
  {
   "cell_type": "code",
   "execution_count": 14,
   "metadata": {
    "colab": {
     "base_uri": "https://localhost:8080/"
    },
    "execution": {
     "iopub.execute_input": "2023-08-28T06:53:38.299104Z",
     "iopub.status.busy": "2023-08-28T06:53:38.298335Z",
     "iopub.status.idle": "2023-08-28T06:53:38.305347Z",
     "shell.execute_reply": "2023-08-28T06:53:38.304421Z",
     "shell.execute_reply.started": "2023-08-28T06:53:38.299069Z"
    },
    "id": "AxhydAhDnbQK",
    "outputId": "af2af3f9-3d48-4a1f-f5cd-95b026c2f499"
   },
   "outputs": [
    {
     "data": {
      "text/plain": [
       "(165808, 20)"
      ]
     },
     "execution_count": 14,
     "metadata": {},
     "output_type": "execute_result"
    }
   ],
   "source": [
    "df.shape"
   ]
  },
  {
   "cell_type": "code",
   "execution_count": 15,
   "metadata": {
    "colab": {
     "base_uri": "https://localhost:8080/"
    },
    "execution": {
     "iopub.execute_input": "2023-08-28T06:53:38.307330Z",
     "iopub.status.busy": "2023-08-28T06:53:38.306711Z",
     "iopub.status.idle": "2023-08-28T06:53:38.843967Z",
     "shell.execute_reply": "2023-08-28T06:53:38.842784Z",
     "shell.execute_reply.started": "2023-08-28T06:53:38.307295Z"
    },
    "id": "VHKUcEN9nbQK",
    "outputId": "a16781bf-9844-44df-bf7a-dd57293294b0"
   },
   "outputs": [
    {
     "name": "stdout",
     "output_type": "stream",
     "text": [
      "<class 'pandas.core.frame.DataFrame'>\n",
      "RangeIndex: 165808 entries, 0 to 165807\n",
      "Data columns (total 20 columns):\n",
      " #   Column          Non-Null Count   Dtype \n",
      "---  ------          --------------   ----- \n",
      " 0   ACTOR1          165808 non-null  object\n",
      " 1   ACTOR2          122255 non-null  object\n",
      " 2   ACTOR_DYAD_ID   140747 non-null  object\n",
      " 3   ADMIN1          165808 non-null  object\n",
      " 4   ADMIN2          165676 non-null  object\n",
      " 5   ADMIN3          86933 non-null   object\n",
      " 6   COUNTRY         165808 non-null  object\n",
      " 7   EVENT_DATE      165808 non-null  object\n",
      " 8   EVENT_TYPE      165808 non-null  object\n",
      " 9   FATALITIES      165808 non-null  int64 \n",
      " 10  GEO_PRECISION   165808 non-null  int64 \n",
      " 11  GWNO            165808 non-null  int64 \n",
      " 12  INTER1          165808 non-null  int64 \n",
      " 13  INTER2          165808 non-null  int64 \n",
      " 14  INTERACTION     165808 non-null  int64 \n",
      " 15  LATITUDE        165808 non-null  object\n",
      " 16  LOCATION        165805 non-null  object\n",
      " 17  LONGITUDE       165808 non-null  object\n",
      " 18  TIME_PRECISION  165808 non-null  int64 \n",
      " 19  YEAR            165808 non-null  int64 \n",
      "dtypes: int64(8), object(12)\n",
      "memory usage: 25.3+ MB\n"
     ]
    }
   ],
   "source": [
    "df.info()"
   ]
  },
  {
   "cell_type": "code",
   "execution_count": 16,
   "metadata": {
    "execution": {
     "iopub.execute_input": "2023-08-28T06:53:38.845969Z",
     "iopub.status.busy": "2023-08-28T06:53:38.845532Z",
     "iopub.status.idle": "2023-08-28T06:53:38.996508Z",
     "shell.execute_reply": "2023-08-28T06:53:38.995278Z",
     "shell.execute_reply.started": "2023-08-28T06:53:38.845932Z"
    },
    "id": "_co0X_2OnbQK"
   },
   "outputs": [],
   "source": [
    "df['LATITUDE'] = pd.to_numeric(df['LATITUDE'], errors='coerce')\n",
    "df['LONGITUDE'] = pd.to_numeric(df['LONGITUDE'], errors='coerce')"
   ]
  },
  {
   "cell_type": "code",
   "execution_count": 17,
   "metadata": {
    "colab": {
     "base_uri": "https://localhost:8080/"
    },
    "execution": {
     "iopub.execute_input": "2023-08-28T06:53:38.998737Z",
     "iopub.status.busy": "2023-08-28T06:53:38.998315Z",
     "iopub.status.idle": "2023-08-28T06:53:39.465288Z",
     "shell.execute_reply": "2023-08-28T06:53:39.464126Z",
     "shell.execute_reply.started": "2023-08-28T06:53:38.998646Z"
    },
    "id": "_-y17hhdnbQL",
    "outputId": "8cb16eff-7a9a-43ea-fe0f-e473ed19373b"
   },
   "outputs": [
    {
     "name": "stdout",
     "output_type": "stream",
     "text": [
      "<class 'pandas.core.frame.DataFrame'>\n",
      "RangeIndex: 165808 entries, 0 to 165807\n",
      "Data columns (total 20 columns):\n",
      " #   Column          Non-Null Count   Dtype  \n",
      "---  ------          --------------   -----  \n",
      " 0   ACTOR1          165808 non-null  object \n",
      " 1   ACTOR2          122255 non-null  object \n",
      " 2   ACTOR_DYAD_ID   140747 non-null  object \n",
      " 3   ADMIN1          165808 non-null  object \n",
      " 4   ADMIN2          165676 non-null  object \n",
      " 5   ADMIN3          86933 non-null   object \n",
      " 6   COUNTRY         165808 non-null  object \n",
      " 7   EVENT_DATE      165808 non-null  object \n",
      " 8   EVENT_TYPE      165808 non-null  object \n",
      " 9   FATALITIES      165808 non-null  int64  \n",
      " 10  GEO_PRECISION   165808 non-null  int64  \n",
      " 11  GWNO            165808 non-null  int64  \n",
      " 12  INTER1          165808 non-null  int64  \n",
      " 13  INTER2          165808 non-null  int64  \n",
      " 14  INTERACTION     165808 non-null  int64  \n",
      " 15  LATITUDE        165806 non-null  float64\n",
      " 16  LOCATION        165805 non-null  object \n",
      " 17  LONGITUDE       165797 non-null  float64\n",
      " 18  TIME_PRECISION  165808 non-null  int64  \n",
      " 19  YEAR            165808 non-null  int64  \n",
      "dtypes: float64(2), int64(8), object(10)\n",
      "memory usage: 25.3+ MB\n"
     ]
    }
   ],
   "source": [
    "df.info()"
   ]
  },
  {
   "cell_type": "code",
   "execution_count": 18,
   "metadata": {
    "colab": {
     "base_uri": "https://localhost:8080/",
     "height": 504
    },
    "execution": {
     "iopub.execute_input": "2023-08-28T06:53:39.467431Z",
     "iopub.status.busy": "2023-08-28T06:53:39.467064Z",
     "iopub.status.idle": "2023-08-28T06:53:39.489585Z",
     "shell.execute_reply": "2023-08-28T06:53:39.488675Z",
     "shell.execute_reply.started": "2023-08-28T06:53:39.467395Z"
    },
    "id": "D1eBGewtnbQL",
    "outputId": "7ddbbfc4-1327-45fb-ce16-0e92ec52987c"
   },
   "outputs": [
    {
     "data": {
      "text/html": [
       "<div>\n",
       "<style scoped>\n",
       "    .dataframe tbody tr th:only-of-type {\n",
       "        vertical-align: middle;\n",
       "    }\n",
       "\n",
       "    .dataframe tbody tr th {\n",
       "        vertical-align: top;\n",
       "    }\n",
       "\n",
       "    .dataframe thead th {\n",
       "        text-align: right;\n",
       "    }\n",
       "</style>\n",
       "<table border=\"1\" class=\"dataframe\">\n",
       "  <thead>\n",
       "    <tr style=\"text-align: right;\">\n",
       "      <th></th>\n",
       "      <th>ACTOR1</th>\n",
       "      <th>ACTOR2</th>\n",
       "      <th>ACTOR_DYAD_ID</th>\n",
       "      <th>ADMIN1</th>\n",
       "      <th>ADMIN2</th>\n",
       "      <th>ADMIN3</th>\n",
       "      <th>COUNTRY</th>\n",
       "      <th>EVENT_DATE</th>\n",
       "      <th>EVENT_TYPE</th>\n",
       "      <th>FATALITIES</th>\n",
       "      <th>GEO_PRECISION</th>\n",
       "      <th>GWNO</th>\n",
       "      <th>INTER1</th>\n",
       "      <th>INTER2</th>\n",
       "      <th>INTERACTION</th>\n",
       "      <th>LATITUDE</th>\n",
       "      <th>LOCATION</th>\n",
       "      <th>LONGITUDE</th>\n",
       "      <th>TIME_PRECISION</th>\n",
       "      <th>YEAR</th>\n",
       "    </tr>\n",
       "  </thead>\n",
       "  <tbody>\n",
       "    <tr>\n",
       "      <th>0</th>\n",
       "      <td>Police Forces of Algeria (1999-)</td>\n",
       "      <td>Civilians (Algeria)</td>\n",
       "      <td>NaN</td>\n",
       "      <td>Tizi Ouzou</td>\n",
       "      <td>Beni-Douala</td>\n",
       "      <td>NaN</td>\n",
       "      <td>Algeria</td>\n",
       "      <td>18/04/2001</td>\n",
       "      <td>Violence against civilians</td>\n",
       "      <td>1</td>\n",
       "      <td>1</td>\n",
       "      <td>615</td>\n",
       "      <td>1</td>\n",
       "      <td>7</td>\n",
       "      <td>17</td>\n",
       "      <td>36.61954</td>\n",
       "      <td>Beni Douala</td>\n",
       "      <td>4.08282</td>\n",
       "      <td>1</td>\n",
       "      <td>2001</td>\n",
       "    </tr>\n",
       "    <tr>\n",
       "      <th>1</th>\n",
       "      <td>Rioters (Algeria)</td>\n",
       "      <td>Police Forces of Algeria (1999-)</td>\n",
       "      <td>NaN</td>\n",
       "      <td>Tizi Ouzou</td>\n",
       "      <td>Tizi Ouzou</td>\n",
       "      <td>NaN</td>\n",
       "      <td>Algeria</td>\n",
       "      <td>19/04/2001</td>\n",
       "      <td>Riots/Protests</td>\n",
       "      <td>0</td>\n",
       "      <td>3</td>\n",
       "      <td>615</td>\n",
       "      <td>5</td>\n",
       "      <td>1</td>\n",
       "      <td>15</td>\n",
       "      <td>36.71183</td>\n",
       "      <td>Tizi Ouzou</td>\n",
       "      <td>4.04591</td>\n",
       "      <td>1</td>\n",
       "      <td>2001</td>\n",
       "    </tr>\n",
       "    <tr>\n",
       "      <th>2</th>\n",
       "      <td>Protesters (Algeria)</td>\n",
       "      <td>NaN</td>\n",
       "      <td>NaN</td>\n",
       "      <td>Bejaia</td>\n",
       "      <td>Amizour</td>\n",
       "      <td>NaN</td>\n",
       "      <td>Algeria</td>\n",
       "      <td>20/04/2001</td>\n",
       "      <td>Riots/Protests</td>\n",
       "      <td>0</td>\n",
       "      <td>1</td>\n",
       "      <td>615</td>\n",
       "      <td>6</td>\n",
       "      <td>0</td>\n",
       "      <td>60</td>\n",
       "      <td>36.64022</td>\n",
       "      <td>Amizour</td>\n",
       "      <td>4.90131</td>\n",
       "      <td>1</td>\n",
       "      <td>2001</td>\n",
       "    </tr>\n",
       "    <tr>\n",
       "      <th>3</th>\n",
       "      <td>Rioters (Algeria)</td>\n",
       "      <td>Police Forces of Algeria (1999-)</td>\n",
       "      <td>NaN</td>\n",
       "      <td>Bejaia</td>\n",
       "      <td>Amizour</td>\n",
       "      <td>NaN</td>\n",
       "      <td>Algeria</td>\n",
       "      <td>21/04/2001</td>\n",
       "      <td>Riots/Protests</td>\n",
       "      <td>0</td>\n",
       "      <td>1</td>\n",
       "      <td>615</td>\n",
       "      <td>5</td>\n",
       "      <td>1</td>\n",
       "      <td>15</td>\n",
       "      <td>36.64022</td>\n",
       "      <td>Amizour</td>\n",
       "      <td>4.90131</td>\n",
       "      <td>1</td>\n",
       "      <td>2001</td>\n",
       "    </tr>\n",
       "    <tr>\n",
       "      <th>4</th>\n",
       "      <td>Rioters (Algeria)</td>\n",
       "      <td>Police Forces of Algeria (1999-)</td>\n",
       "      <td>NaN</td>\n",
       "      <td>Tizi Ouzou</td>\n",
       "      <td>Beni-Douala</td>\n",
       "      <td>NaN</td>\n",
       "      <td>Algeria</td>\n",
       "      <td>21/04/2001</td>\n",
       "      <td>Riots/Protests</td>\n",
       "      <td>0</td>\n",
       "      <td>1</td>\n",
       "      <td>615</td>\n",
       "      <td>5</td>\n",
       "      <td>1</td>\n",
       "      <td>15</td>\n",
       "      <td>36.61954</td>\n",
       "      <td>Beni Douala</td>\n",
       "      <td>4.08282</td>\n",
       "      <td>1</td>\n",
       "      <td>2001</td>\n",
       "    </tr>\n",
       "  </tbody>\n",
       "</table>\n",
       "</div>"
      ],
      "text/plain": [
       "                             ACTOR1                            ACTOR2  \\\n",
       "0  Police Forces of Algeria (1999-)               Civilians (Algeria)   \n",
       "1                 Rioters (Algeria)  Police Forces of Algeria (1999-)   \n",
       "2              Protesters (Algeria)                               NaN   \n",
       "3                 Rioters (Algeria)  Police Forces of Algeria (1999-)   \n",
       "4                 Rioters (Algeria)  Police Forces of Algeria (1999-)   \n",
       "\n",
       "  ACTOR_DYAD_ID      ADMIN1       ADMIN2 ADMIN3  COUNTRY  EVENT_DATE  \\\n",
       "0           NaN  Tizi Ouzou  Beni-Douala    NaN  Algeria  18/04/2001   \n",
       "1           NaN  Tizi Ouzou   Tizi Ouzou    NaN  Algeria  19/04/2001   \n",
       "2           NaN      Bejaia      Amizour    NaN  Algeria  20/04/2001   \n",
       "3           NaN      Bejaia      Amizour    NaN  Algeria  21/04/2001   \n",
       "4           NaN  Tizi Ouzou  Beni-Douala    NaN  Algeria  21/04/2001   \n",
       "\n",
       "                   EVENT_TYPE  FATALITIES  GEO_PRECISION  GWNO  INTER1  \\\n",
       "0  Violence against civilians           1              1   615       1   \n",
       "1              Riots/Protests           0              3   615       5   \n",
       "2              Riots/Protests           0              1   615       6   \n",
       "3              Riots/Protests           0              1   615       5   \n",
       "4              Riots/Protests           0              1   615       5   \n",
       "\n",
       "   INTER2  INTERACTION  LATITUDE     LOCATION  LONGITUDE  TIME_PRECISION  YEAR  \n",
       "0       7           17  36.61954  Beni Douala    4.08282               1  2001  \n",
       "1       1           15  36.71183   Tizi Ouzou    4.04591               1  2001  \n",
       "2       0           60  36.64022      Amizour    4.90131               1  2001  \n",
       "3       1           15  36.64022      Amizour    4.90131               1  2001  \n",
       "4       1           15  36.61954  Beni Douala    4.08282               1  2001  "
      ]
     },
     "execution_count": 18,
     "metadata": {},
     "output_type": "execute_result"
    }
   ],
   "source": [
    "df.head()"
   ]
  },
  {
   "cell_type": "code",
   "execution_count": 19,
   "metadata": {
    "execution": {
     "iopub.execute_input": "2023-08-28T06:53:39.491433Z",
     "iopub.status.busy": "2023-08-28T06:53:39.491055Z",
     "iopub.status.idle": "2023-08-28T06:53:39.660267Z",
     "shell.execute_reply": "2023-08-28T06:53:39.659181Z",
     "shell.execute_reply.started": "2023-08-28T06:53:39.491400Z"
    },
    "id": "tlPSocJbnbQL"
   },
   "outputs": [],
   "source": [
    "df['EVENT_DATE'] = pd.to_datetime(df['EVENT_DATE'])"
   ]
  },
  {
   "cell_type": "code",
   "execution_count": 20,
   "metadata": {
    "colab": {
     "base_uri": "https://localhost:8080/"
    },
    "execution": {
     "iopub.execute_input": "2023-08-28T06:53:39.662229Z",
     "iopub.status.busy": "2023-08-28T06:53:39.661837Z",
     "iopub.status.idle": "2023-08-28T06:53:40.076944Z",
     "shell.execute_reply": "2023-08-28T06:53:40.075804Z",
     "shell.execute_reply.started": "2023-08-28T06:53:39.662182Z"
    },
    "id": "ZzbQ9RXJnbQM",
    "outputId": "b05a364e-7282-4894-9b6f-b1bc20fe2484"
   },
   "outputs": [
    {
     "name": "stdout",
     "output_type": "stream",
     "text": [
      "<class 'pandas.core.frame.DataFrame'>\n",
      "RangeIndex: 165808 entries, 0 to 165807\n",
      "Data columns (total 20 columns):\n",
      " #   Column          Non-Null Count   Dtype         \n",
      "---  ------          --------------   -----         \n",
      " 0   ACTOR1          165808 non-null  object        \n",
      " 1   ACTOR2          122255 non-null  object        \n",
      " 2   ACTOR_DYAD_ID   140747 non-null  object        \n",
      " 3   ADMIN1          165808 non-null  object        \n",
      " 4   ADMIN2          165676 non-null  object        \n",
      " 5   ADMIN3          86933 non-null   object        \n",
      " 6   COUNTRY         165808 non-null  object        \n",
      " 7   EVENT_DATE      165808 non-null  datetime64[ns]\n",
      " 8   EVENT_TYPE      165808 non-null  object        \n",
      " 9   FATALITIES      165808 non-null  int64         \n",
      " 10  GEO_PRECISION   165808 non-null  int64         \n",
      " 11  GWNO            165808 non-null  int64         \n",
      " 12  INTER1          165808 non-null  int64         \n",
      " 13  INTER2          165808 non-null  int64         \n",
      " 14  INTERACTION     165808 non-null  int64         \n",
      " 15  LATITUDE        165806 non-null  float64       \n",
      " 16  LOCATION        165805 non-null  object        \n",
      " 17  LONGITUDE       165797 non-null  float64       \n",
      " 18  TIME_PRECISION  165808 non-null  int64         \n",
      " 19  YEAR            165808 non-null  int64         \n",
      "dtypes: datetime64[ns](1), float64(2), int64(8), object(9)\n",
      "memory usage: 25.3+ MB\n"
     ]
    }
   ],
   "source": [
    "df.info()"
   ]
  },
  {
   "cell_type": "code",
   "execution_count": 21,
   "metadata": {
    "colab": {
     "base_uri": "https://localhost:8080/",
     "height": 504
    },
    "execution": {
     "iopub.execute_input": "2023-08-28T06:53:40.083580Z",
     "iopub.status.busy": "2023-08-28T06:53:40.079028Z",
     "iopub.status.idle": "2023-08-28T06:53:40.104086Z",
     "shell.execute_reply": "2023-08-28T06:53:40.102314Z",
     "shell.execute_reply.started": "2023-08-28T06:53:40.083511Z"
    },
    "id": "4wMuHemKnbQM",
    "outputId": "af59f99c-02dc-4884-fb3b-846141307332"
   },
   "outputs": [
    {
     "data": {
      "text/html": [
       "<div>\n",
       "<style scoped>\n",
       "    .dataframe tbody tr th:only-of-type {\n",
       "        vertical-align: middle;\n",
       "    }\n",
       "\n",
       "    .dataframe tbody tr th {\n",
       "        vertical-align: top;\n",
       "    }\n",
       "\n",
       "    .dataframe thead th {\n",
       "        text-align: right;\n",
       "    }\n",
       "</style>\n",
       "<table border=\"1\" class=\"dataframe\">\n",
       "  <thead>\n",
       "    <tr style=\"text-align: right;\">\n",
       "      <th></th>\n",
       "      <th>ACTOR1</th>\n",
       "      <th>ACTOR2</th>\n",
       "      <th>ACTOR_DYAD_ID</th>\n",
       "      <th>ADMIN1</th>\n",
       "      <th>ADMIN2</th>\n",
       "      <th>ADMIN3</th>\n",
       "      <th>COUNTRY</th>\n",
       "      <th>EVENT_DATE</th>\n",
       "      <th>EVENT_TYPE</th>\n",
       "      <th>FATALITIES</th>\n",
       "      <th>GEO_PRECISION</th>\n",
       "      <th>GWNO</th>\n",
       "      <th>INTER1</th>\n",
       "      <th>INTER2</th>\n",
       "      <th>INTERACTION</th>\n",
       "      <th>LATITUDE</th>\n",
       "      <th>LOCATION</th>\n",
       "      <th>LONGITUDE</th>\n",
       "      <th>TIME_PRECISION</th>\n",
       "      <th>YEAR</th>\n",
       "    </tr>\n",
       "  </thead>\n",
       "  <tbody>\n",
       "    <tr>\n",
       "      <th>0</th>\n",
       "      <td>Police Forces of Algeria (1999-)</td>\n",
       "      <td>Civilians (Algeria)</td>\n",
       "      <td>NaN</td>\n",
       "      <td>Tizi Ouzou</td>\n",
       "      <td>Beni-Douala</td>\n",
       "      <td>NaN</td>\n",
       "      <td>Algeria</td>\n",
       "      <td>2001-04-18</td>\n",
       "      <td>Violence against civilians</td>\n",
       "      <td>1</td>\n",
       "      <td>1</td>\n",
       "      <td>615</td>\n",
       "      <td>1</td>\n",
       "      <td>7</td>\n",
       "      <td>17</td>\n",
       "      <td>36.61954</td>\n",
       "      <td>Beni Douala</td>\n",
       "      <td>4.08282</td>\n",
       "      <td>1</td>\n",
       "      <td>2001</td>\n",
       "    </tr>\n",
       "    <tr>\n",
       "      <th>1</th>\n",
       "      <td>Rioters (Algeria)</td>\n",
       "      <td>Police Forces of Algeria (1999-)</td>\n",
       "      <td>NaN</td>\n",
       "      <td>Tizi Ouzou</td>\n",
       "      <td>Tizi Ouzou</td>\n",
       "      <td>NaN</td>\n",
       "      <td>Algeria</td>\n",
       "      <td>2001-04-19</td>\n",
       "      <td>Riots/Protests</td>\n",
       "      <td>0</td>\n",
       "      <td>3</td>\n",
       "      <td>615</td>\n",
       "      <td>5</td>\n",
       "      <td>1</td>\n",
       "      <td>15</td>\n",
       "      <td>36.71183</td>\n",
       "      <td>Tizi Ouzou</td>\n",
       "      <td>4.04591</td>\n",
       "      <td>1</td>\n",
       "      <td>2001</td>\n",
       "    </tr>\n",
       "    <tr>\n",
       "      <th>2</th>\n",
       "      <td>Protesters (Algeria)</td>\n",
       "      <td>NaN</td>\n",
       "      <td>NaN</td>\n",
       "      <td>Bejaia</td>\n",
       "      <td>Amizour</td>\n",
       "      <td>NaN</td>\n",
       "      <td>Algeria</td>\n",
       "      <td>2001-04-20</td>\n",
       "      <td>Riots/Protests</td>\n",
       "      <td>0</td>\n",
       "      <td>1</td>\n",
       "      <td>615</td>\n",
       "      <td>6</td>\n",
       "      <td>0</td>\n",
       "      <td>60</td>\n",
       "      <td>36.64022</td>\n",
       "      <td>Amizour</td>\n",
       "      <td>4.90131</td>\n",
       "      <td>1</td>\n",
       "      <td>2001</td>\n",
       "    </tr>\n",
       "    <tr>\n",
       "      <th>3</th>\n",
       "      <td>Rioters (Algeria)</td>\n",
       "      <td>Police Forces of Algeria (1999-)</td>\n",
       "      <td>NaN</td>\n",
       "      <td>Bejaia</td>\n",
       "      <td>Amizour</td>\n",
       "      <td>NaN</td>\n",
       "      <td>Algeria</td>\n",
       "      <td>2001-04-21</td>\n",
       "      <td>Riots/Protests</td>\n",
       "      <td>0</td>\n",
       "      <td>1</td>\n",
       "      <td>615</td>\n",
       "      <td>5</td>\n",
       "      <td>1</td>\n",
       "      <td>15</td>\n",
       "      <td>36.64022</td>\n",
       "      <td>Amizour</td>\n",
       "      <td>4.90131</td>\n",
       "      <td>1</td>\n",
       "      <td>2001</td>\n",
       "    </tr>\n",
       "    <tr>\n",
       "      <th>4</th>\n",
       "      <td>Rioters (Algeria)</td>\n",
       "      <td>Police Forces of Algeria (1999-)</td>\n",
       "      <td>NaN</td>\n",
       "      <td>Tizi Ouzou</td>\n",
       "      <td>Beni-Douala</td>\n",
       "      <td>NaN</td>\n",
       "      <td>Algeria</td>\n",
       "      <td>2001-04-21</td>\n",
       "      <td>Riots/Protests</td>\n",
       "      <td>0</td>\n",
       "      <td>1</td>\n",
       "      <td>615</td>\n",
       "      <td>5</td>\n",
       "      <td>1</td>\n",
       "      <td>15</td>\n",
       "      <td>36.61954</td>\n",
       "      <td>Beni Douala</td>\n",
       "      <td>4.08282</td>\n",
       "      <td>1</td>\n",
       "      <td>2001</td>\n",
       "    </tr>\n",
       "  </tbody>\n",
       "</table>\n",
       "</div>"
      ],
      "text/plain": [
       "                             ACTOR1                            ACTOR2  \\\n",
       "0  Police Forces of Algeria (1999-)               Civilians (Algeria)   \n",
       "1                 Rioters (Algeria)  Police Forces of Algeria (1999-)   \n",
       "2              Protesters (Algeria)                               NaN   \n",
       "3                 Rioters (Algeria)  Police Forces of Algeria (1999-)   \n",
       "4                 Rioters (Algeria)  Police Forces of Algeria (1999-)   \n",
       "\n",
       "  ACTOR_DYAD_ID      ADMIN1       ADMIN2 ADMIN3  COUNTRY EVENT_DATE  \\\n",
       "0           NaN  Tizi Ouzou  Beni-Douala    NaN  Algeria 2001-04-18   \n",
       "1           NaN  Tizi Ouzou   Tizi Ouzou    NaN  Algeria 2001-04-19   \n",
       "2           NaN      Bejaia      Amizour    NaN  Algeria 2001-04-20   \n",
       "3           NaN      Bejaia      Amizour    NaN  Algeria 2001-04-21   \n",
       "4           NaN  Tizi Ouzou  Beni-Douala    NaN  Algeria 2001-04-21   \n",
       "\n",
       "                   EVENT_TYPE  FATALITIES  GEO_PRECISION  GWNO  INTER1  \\\n",
       "0  Violence against civilians           1              1   615       1   \n",
       "1              Riots/Protests           0              3   615       5   \n",
       "2              Riots/Protests           0              1   615       6   \n",
       "3              Riots/Protests           0              1   615       5   \n",
       "4              Riots/Protests           0              1   615       5   \n",
       "\n",
       "   INTER2  INTERACTION  LATITUDE     LOCATION  LONGITUDE  TIME_PRECISION  YEAR  \n",
       "0       7           17  36.61954  Beni Douala    4.08282               1  2001  \n",
       "1       1           15  36.71183   Tizi Ouzou    4.04591               1  2001  \n",
       "2       0           60  36.64022      Amizour    4.90131               1  2001  \n",
       "3       1           15  36.64022      Amizour    4.90131               1  2001  \n",
       "4       1           15  36.61954  Beni Douala    4.08282               1  2001  "
      ]
     },
     "execution_count": 21,
     "metadata": {},
     "output_type": "execute_result"
    }
   ],
   "source": [
    "df.head()"
   ]
  },
  {
   "cell_type": "code",
   "execution_count": 22,
   "metadata": {
    "execution": {
     "iopub.execute_input": "2023-08-28T06:53:40.107401Z",
     "iopub.status.busy": "2023-08-28T06:53:40.105396Z",
     "iopub.status.idle": "2023-08-28T06:53:40.146159Z",
     "shell.execute_reply": "2023-08-28T06:53:40.145088Z",
     "shell.execute_reply.started": "2023-08-28T06:53:40.107372Z"
    },
    "id": "MYq6yRJnnbQM"
   },
   "outputs": [],
   "source": [
    "df['month'] = df['EVENT_DATE'].dt.month\n",
    "df['day'] = df['EVENT_DATE'].dt.day"
   ]
  },
  {
   "cell_type": "code",
   "execution_count": 23,
   "metadata": {
    "execution": {
     "iopub.execute_input": "2023-08-28T06:53:40.148158Z",
     "iopub.status.busy": "2023-08-28T06:53:40.147563Z",
     "iopub.status.idle": "2023-08-28T06:53:40.177795Z",
     "shell.execute_reply": "2023-08-28T06:53:40.176798Z",
     "shell.execute_reply.started": "2023-08-28T06:53:40.148124Z"
    },
    "id": "0LOZHyp-nbQN"
   },
   "outputs": [],
   "source": [
    "df.drop(columns=['EVENT_DATE'], inplace=True)"
   ]
  },
  {
   "cell_type": "code",
   "execution_count": 24,
   "metadata": {
    "colab": {
     "base_uri": "https://localhost:8080/",
     "height": 533
    },
    "execution": {
     "iopub.execute_input": "2023-08-28T06:53:40.179577Z",
     "iopub.status.busy": "2023-08-28T06:53:40.179132Z",
     "iopub.status.idle": "2023-08-28T06:53:40.203034Z",
     "shell.execute_reply": "2023-08-28T06:53:40.201677Z",
     "shell.execute_reply.started": "2023-08-28T06:53:40.179536Z"
    },
    "id": "869p21_vnbQN",
    "outputId": "dda2e406-0b79-487f-a3e9-46a317d415c5"
   },
   "outputs": [
    {
     "data": {
      "text/html": [
       "<div>\n",
       "<style scoped>\n",
       "    .dataframe tbody tr th:only-of-type {\n",
       "        vertical-align: middle;\n",
       "    }\n",
       "\n",
       "    .dataframe tbody tr th {\n",
       "        vertical-align: top;\n",
       "    }\n",
       "\n",
       "    .dataframe thead th {\n",
       "        text-align: right;\n",
       "    }\n",
       "</style>\n",
       "<table border=\"1\" class=\"dataframe\">\n",
       "  <thead>\n",
       "    <tr style=\"text-align: right;\">\n",
       "      <th></th>\n",
       "      <th>ACTOR1</th>\n",
       "      <th>ACTOR2</th>\n",
       "      <th>ACTOR_DYAD_ID</th>\n",
       "      <th>ADMIN1</th>\n",
       "      <th>ADMIN2</th>\n",
       "      <th>ADMIN3</th>\n",
       "      <th>COUNTRY</th>\n",
       "      <th>EVENT_TYPE</th>\n",
       "      <th>FATALITIES</th>\n",
       "      <th>GEO_PRECISION</th>\n",
       "      <th>...</th>\n",
       "      <th>INTER1</th>\n",
       "      <th>INTER2</th>\n",
       "      <th>INTERACTION</th>\n",
       "      <th>LATITUDE</th>\n",
       "      <th>LOCATION</th>\n",
       "      <th>LONGITUDE</th>\n",
       "      <th>TIME_PRECISION</th>\n",
       "      <th>YEAR</th>\n",
       "      <th>month</th>\n",
       "      <th>day</th>\n",
       "    </tr>\n",
       "  </thead>\n",
       "  <tbody>\n",
       "    <tr>\n",
       "      <th>0</th>\n",
       "      <td>Police Forces of Algeria (1999-)</td>\n",
       "      <td>Civilians (Algeria)</td>\n",
       "      <td>NaN</td>\n",
       "      <td>Tizi Ouzou</td>\n",
       "      <td>Beni-Douala</td>\n",
       "      <td>NaN</td>\n",
       "      <td>Algeria</td>\n",
       "      <td>Violence against civilians</td>\n",
       "      <td>1</td>\n",
       "      <td>1</td>\n",
       "      <td>...</td>\n",
       "      <td>1</td>\n",
       "      <td>7</td>\n",
       "      <td>17</td>\n",
       "      <td>36.61954</td>\n",
       "      <td>Beni Douala</td>\n",
       "      <td>4.08282</td>\n",
       "      <td>1</td>\n",
       "      <td>2001</td>\n",
       "      <td>4</td>\n",
       "      <td>18</td>\n",
       "    </tr>\n",
       "    <tr>\n",
       "      <th>1</th>\n",
       "      <td>Rioters (Algeria)</td>\n",
       "      <td>Police Forces of Algeria (1999-)</td>\n",
       "      <td>NaN</td>\n",
       "      <td>Tizi Ouzou</td>\n",
       "      <td>Tizi Ouzou</td>\n",
       "      <td>NaN</td>\n",
       "      <td>Algeria</td>\n",
       "      <td>Riots/Protests</td>\n",
       "      <td>0</td>\n",
       "      <td>3</td>\n",
       "      <td>...</td>\n",
       "      <td>5</td>\n",
       "      <td>1</td>\n",
       "      <td>15</td>\n",
       "      <td>36.71183</td>\n",
       "      <td>Tizi Ouzou</td>\n",
       "      <td>4.04591</td>\n",
       "      <td>1</td>\n",
       "      <td>2001</td>\n",
       "      <td>4</td>\n",
       "      <td>19</td>\n",
       "    </tr>\n",
       "    <tr>\n",
       "      <th>2</th>\n",
       "      <td>Protesters (Algeria)</td>\n",
       "      <td>NaN</td>\n",
       "      <td>NaN</td>\n",
       "      <td>Bejaia</td>\n",
       "      <td>Amizour</td>\n",
       "      <td>NaN</td>\n",
       "      <td>Algeria</td>\n",
       "      <td>Riots/Protests</td>\n",
       "      <td>0</td>\n",
       "      <td>1</td>\n",
       "      <td>...</td>\n",
       "      <td>6</td>\n",
       "      <td>0</td>\n",
       "      <td>60</td>\n",
       "      <td>36.64022</td>\n",
       "      <td>Amizour</td>\n",
       "      <td>4.90131</td>\n",
       "      <td>1</td>\n",
       "      <td>2001</td>\n",
       "      <td>4</td>\n",
       "      <td>20</td>\n",
       "    </tr>\n",
       "    <tr>\n",
       "      <th>3</th>\n",
       "      <td>Rioters (Algeria)</td>\n",
       "      <td>Police Forces of Algeria (1999-)</td>\n",
       "      <td>NaN</td>\n",
       "      <td>Bejaia</td>\n",
       "      <td>Amizour</td>\n",
       "      <td>NaN</td>\n",
       "      <td>Algeria</td>\n",
       "      <td>Riots/Protests</td>\n",
       "      <td>0</td>\n",
       "      <td>1</td>\n",
       "      <td>...</td>\n",
       "      <td>5</td>\n",
       "      <td>1</td>\n",
       "      <td>15</td>\n",
       "      <td>36.64022</td>\n",
       "      <td>Amizour</td>\n",
       "      <td>4.90131</td>\n",
       "      <td>1</td>\n",
       "      <td>2001</td>\n",
       "      <td>4</td>\n",
       "      <td>21</td>\n",
       "    </tr>\n",
       "    <tr>\n",
       "      <th>4</th>\n",
       "      <td>Rioters (Algeria)</td>\n",
       "      <td>Police Forces of Algeria (1999-)</td>\n",
       "      <td>NaN</td>\n",
       "      <td>Tizi Ouzou</td>\n",
       "      <td>Beni-Douala</td>\n",
       "      <td>NaN</td>\n",
       "      <td>Algeria</td>\n",
       "      <td>Riots/Protests</td>\n",
       "      <td>0</td>\n",
       "      <td>1</td>\n",
       "      <td>...</td>\n",
       "      <td>5</td>\n",
       "      <td>1</td>\n",
       "      <td>15</td>\n",
       "      <td>36.61954</td>\n",
       "      <td>Beni Douala</td>\n",
       "      <td>4.08282</td>\n",
       "      <td>1</td>\n",
       "      <td>2001</td>\n",
       "      <td>4</td>\n",
       "      <td>21</td>\n",
       "    </tr>\n",
       "  </tbody>\n",
       "</table>\n",
       "<p>5 rows × 21 columns</p>\n",
       "</div>"
      ],
      "text/plain": [
       "                             ACTOR1                            ACTOR2  \\\n",
       "0  Police Forces of Algeria (1999-)               Civilians (Algeria)   \n",
       "1                 Rioters (Algeria)  Police Forces of Algeria (1999-)   \n",
       "2              Protesters (Algeria)                               NaN   \n",
       "3                 Rioters (Algeria)  Police Forces of Algeria (1999-)   \n",
       "4                 Rioters (Algeria)  Police Forces of Algeria (1999-)   \n",
       "\n",
       "  ACTOR_DYAD_ID      ADMIN1       ADMIN2 ADMIN3  COUNTRY  \\\n",
       "0           NaN  Tizi Ouzou  Beni-Douala    NaN  Algeria   \n",
       "1           NaN  Tizi Ouzou   Tizi Ouzou    NaN  Algeria   \n",
       "2           NaN      Bejaia      Amizour    NaN  Algeria   \n",
       "3           NaN      Bejaia      Amizour    NaN  Algeria   \n",
       "4           NaN  Tizi Ouzou  Beni-Douala    NaN  Algeria   \n",
       "\n",
       "                   EVENT_TYPE  FATALITIES  GEO_PRECISION  ...  INTER1  INTER2  \\\n",
       "0  Violence against civilians           1              1  ...       1       7   \n",
       "1              Riots/Protests           0              3  ...       5       1   \n",
       "2              Riots/Protests           0              1  ...       6       0   \n",
       "3              Riots/Protests           0              1  ...       5       1   \n",
       "4              Riots/Protests           0              1  ...       5       1   \n",
       "\n",
       "   INTERACTION  LATITUDE     LOCATION LONGITUDE  TIME_PRECISION  YEAR  month  \\\n",
       "0           17  36.61954  Beni Douala   4.08282               1  2001      4   \n",
       "1           15  36.71183   Tizi Ouzou   4.04591               1  2001      4   \n",
       "2           60  36.64022      Amizour   4.90131               1  2001      4   \n",
       "3           15  36.64022      Amizour   4.90131               1  2001      4   \n",
       "4           15  36.61954  Beni Douala   4.08282               1  2001      4   \n",
       "\n",
       "   day  \n",
       "0   18  \n",
       "1   19  \n",
       "2   20  \n",
       "3   21  \n",
       "4   21  \n",
       "\n",
       "[5 rows x 21 columns]"
      ]
     },
     "execution_count": 24,
     "metadata": {},
     "output_type": "execute_result"
    }
   ],
   "source": [
    "df.head()"
   ]
  },
  {
   "cell_type": "code",
   "execution_count": 25,
   "metadata": {
    "execution": {
     "iopub.execute_input": "2023-08-28T06:53:40.205485Z",
     "iopub.status.busy": "2023-08-28T06:53:40.204905Z",
     "iopub.status.idle": "2023-08-28T06:53:40.213778Z",
     "shell.execute_reply": "2023-08-28T06:53:40.212756Z",
     "shell.execute_reply.started": "2023-08-28T06:53:40.205383Z"
    },
    "id": "2u6w967EnbQN"
   },
   "outputs": [],
   "source": [
    "# Define categorization thresholds\n",
    "mild_threshold = 10\n",
    "violent_threshold = 100\n",
    "\n",
    "def categorize_fatality(fatality):\n",
    "    if fatality <= mild_threshold:\n",
    "        return 'Mild'\n",
    "    elif fatality <= violent_threshold:\n",
    "        return 'Violent'\n",
    "    else:\n",
    "        return 'Very Violent'\n"
   ]
  },
  {
   "cell_type": "code",
   "execution_count": 26,
   "metadata": {
    "execution": {
     "iopub.execute_input": "2023-08-28T06:53:40.215770Z",
     "iopub.status.busy": "2023-08-28T06:53:40.215302Z",
     "iopub.status.idle": "2023-08-28T06:53:40.270163Z",
     "shell.execute_reply": "2023-08-28T06:53:40.269173Z",
     "shell.execute_reply.started": "2023-08-28T06:53:40.215732Z"
    },
    "id": "mjHcp-psnbQN"
   },
   "outputs": [],
   "source": [
    "df['fatality_category'] = df['FATALITIES'].apply(categorize_fatality)"
   ]
  },
  {
   "cell_type": "code",
   "execution_count": 27,
   "metadata": {
    "colab": {
     "base_uri": "https://localhost:8080/"
    },
    "execution": {
     "iopub.execute_input": "2023-08-28T06:53:40.272076Z",
     "iopub.status.busy": "2023-08-28T06:53:40.271706Z",
     "iopub.status.idle": "2023-08-28T06:53:40.302019Z",
     "shell.execute_reply": "2023-08-28T06:53:40.300668Z",
     "shell.execute_reply.started": "2023-08-28T06:53:40.272040Z"
    },
    "id": "cL_GcmZAnbQO",
    "outputId": "1921525c-703e-4696-9d5f-6b746e0e7afd"
   },
   "outputs": [
    {
     "data": {
      "text/plain": [
       "Mild            0.948109\n",
       "Violent         0.047332\n",
       "Very Violent    0.004559\n",
       "Name: fatality_category, dtype: float64"
      ]
     },
     "execution_count": 27,
     "metadata": {},
     "output_type": "execute_result"
    }
   ],
   "source": [
    "df['fatality_category'].value_counts(normalize=True)"
   ]
  },
  {
   "cell_type": "code",
   "execution_count": 28,
   "metadata": {
    "execution": {
     "iopub.execute_input": "2023-08-28T06:53:40.304590Z",
     "iopub.status.busy": "2023-08-28T06:53:40.304133Z",
     "iopub.status.idle": "2023-08-28T06:53:40.340253Z",
     "shell.execute_reply": "2023-08-28T06:53:40.339164Z",
     "shell.execute_reply.started": "2023-08-28T06:53:40.304551Z"
    },
    "id": "L3_66RqvnbQO"
   },
   "outputs": [],
   "source": [
    "df.drop(columns=['FATALITIES'], inplace = True)"
   ]
  },
  {
   "cell_type": "code",
   "execution_count": 29,
   "metadata": {
    "colab": {
     "base_uri": "https://localhost:8080/"
    },
    "execution": {
     "iopub.execute_input": "2023-08-28T06:53:40.342518Z",
     "iopub.status.busy": "2023-08-28T06:53:40.342121Z",
     "iopub.status.idle": "2023-08-28T06:53:40.352038Z",
     "shell.execute_reply": "2023-08-28T06:53:40.351054Z",
     "shell.execute_reply.started": "2023-08-28T06:53:40.342484Z"
    },
    "id": "PEjoHQeZnbQO",
    "outputId": "5d4f8d6f-219a-44ba-8203-62b48a413f72"
   },
   "outputs": [
    {
     "data": {
      "text/plain": [
       "(165808, 21)"
      ]
     },
     "execution_count": 29,
     "metadata": {},
     "output_type": "execute_result"
    }
   ],
   "source": [
    "df.shape"
   ]
  },
  {
   "cell_type": "code",
   "execution_count": 30,
   "metadata": {
    "colab": {
     "base_uri": "https://localhost:8080/"
    },
    "execution": {
     "iopub.execute_input": "2023-08-28T06:53:40.354844Z",
     "iopub.status.busy": "2023-08-28T06:53:40.354498Z",
     "iopub.status.idle": "2023-08-28T06:53:40.809834Z",
     "shell.execute_reply": "2023-08-28T06:53:40.808794Z",
     "shell.execute_reply.started": "2023-08-28T06:53:40.354819Z"
    },
    "id": "ywBr5_wbnbQO",
    "outputId": "dcd3c696-0874-41e5-ce82-f5eb07dd7ddc",
    "scrolled": true
   },
   "outputs": [
    {
     "name": "stdout",
     "output_type": "stream",
     "text": [
      "<class 'pandas.core.frame.DataFrame'>\n",
      "RangeIndex: 165808 entries, 0 to 165807\n",
      "Data columns (total 21 columns):\n",
      " #   Column             Non-Null Count   Dtype  \n",
      "---  ------             --------------   -----  \n",
      " 0   ACTOR1             165808 non-null  object \n",
      " 1   ACTOR2             122255 non-null  object \n",
      " 2   ACTOR_DYAD_ID      140747 non-null  object \n",
      " 3   ADMIN1             165808 non-null  object \n",
      " 4   ADMIN2             165676 non-null  object \n",
      " 5   ADMIN3             86933 non-null   object \n",
      " 6   COUNTRY            165808 non-null  object \n",
      " 7   EVENT_TYPE         165808 non-null  object \n",
      " 8   GEO_PRECISION      165808 non-null  int64  \n",
      " 9   GWNO               165808 non-null  int64  \n",
      " 10  INTER1             165808 non-null  int64  \n",
      " 11  INTER2             165808 non-null  int64  \n",
      " 12  INTERACTION        165808 non-null  int64  \n",
      " 13  LATITUDE           165806 non-null  float64\n",
      " 14  LOCATION           165805 non-null  object \n",
      " 15  LONGITUDE          165797 non-null  float64\n",
      " 16  TIME_PRECISION     165808 non-null  int64  \n",
      " 17  YEAR               165808 non-null  int64  \n",
      " 18  month              165808 non-null  int64  \n",
      " 19  day                165808 non-null  int64  \n",
      " 20  fatality_category  165808 non-null  object \n",
      "dtypes: float64(2), int64(9), object(10)\n",
      "memory usage: 26.6+ MB\n"
     ]
    }
   ],
   "source": [
    "df.info()"
   ]
  },
  {
   "cell_type": "code",
   "execution_count": 31,
   "metadata": {
    "colab": {
     "base_uri": "https://localhost:8080/"
    },
    "execution": {
     "iopub.execute_input": "2023-08-28T06:53:40.811775Z",
     "iopub.status.busy": "2023-08-28T06:53:40.811378Z",
     "iopub.status.idle": "2023-08-28T06:53:41.271127Z",
     "shell.execute_reply": "2023-08-28T06:53:41.270153Z",
     "shell.execute_reply.started": "2023-08-28T06:53:40.811739Z"
    },
    "id": "M_1kp4H9nbQP",
    "outputId": "a3162445-ccf7-4535-dae9-24f561ac7915"
   },
   "outputs": [
    {
     "data": {
      "text/plain": [
       "ACTOR1                   0\n",
       "ACTOR2               43553\n",
       "ACTOR_DYAD_ID        25061\n",
       "ADMIN1                   0\n",
       "ADMIN2                 132\n",
       "ADMIN3               78875\n",
       "COUNTRY                  0\n",
       "EVENT_TYPE               0\n",
       "GEO_PRECISION            0\n",
       "GWNO                     0\n",
       "INTER1                   0\n",
       "INTER2                   0\n",
       "INTERACTION              0\n",
       "LATITUDE                 2\n",
       "LOCATION                 3\n",
       "LONGITUDE               11\n",
       "TIME_PRECISION           0\n",
       "YEAR                     0\n",
       "month                    0\n",
       "day                      0\n",
       "fatality_category        0\n",
       "dtype: int64"
      ]
     },
     "execution_count": 31,
     "metadata": {},
     "output_type": "execute_result"
    }
   ],
   "source": [
    "df.isnull().sum()"
   ]
  },
  {
   "cell_type": "code",
   "execution_count": 32,
   "metadata": {
    "execution": {
     "iopub.execute_input": "2023-08-28T06:53:41.273519Z",
     "iopub.status.busy": "2023-08-28T06:53:41.272573Z",
     "iopub.status.idle": "2023-08-28T06:53:41.572407Z",
     "shell.execute_reply": "2023-08-28T06:53:41.571402Z",
     "shell.execute_reply.started": "2023-08-28T06:53:41.273482Z"
    },
    "id": "8g3VXkzanbQP"
   },
   "outputs": [],
   "source": [
    "imputer = SimpleImputer(strategy='most_frequent')\n",
    "columns_to_impute = ['LATITUDE', 'LONGITUDE', 'LOCATION']\n",
    "\n",
    "# Fit and transform the imputer on the selected columns\n",
    "df[columns_to_impute] = imputer.fit_transform(df[columns_to_impute])"
   ]
  },
  {
   "cell_type": "code",
   "execution_count": 33,
   "metadata": {
    "colab": {
     "base_uri": "https://localhost:8080/"
    },
    "execution": {
     "iopub.execute_input": "2023-08-28T06:53:41.576436Z",
     "iopub.status.busy": "2023-08-28T06:53:41.576117Z",
     "iopub.status.idle": "2023-08-28T06:53:42.097430Z",
     "shell.execute_reply": "2023-08-28T06:53:42.096492Z",
     "shell.execute_reply.started": "2023-08-28T06:53:41.576410Z"
    },
    "id": "_lLqY6qAnbQP",
    "outputId": "3b861581-4fbb-42f7-e5b1-cd612fbbd5d3"
   },
   "outputs": [
    {
     "data": {
      "text/plain": [
       "ACTOR1                   0\n",
       "ACTOR2               43553\n",
       "ACTOR_DYAD_ID        25061\n",
       "ADMIN1                   0\n",
       "ADMIN2                 132\n",
       "ADMIN3               78875\n",
       "COUNTRY                  0\n",
       "EVENT_TYPE               0\n",
       "GEO_PRECISION            0\n",
       "GWNO                     0\n",
       "INTER1                   0\n",
       "INTER2                   0\n",
       "INTERACTION              0\n",
       "LATITUDE                 0\n",
       "LOCATION                 0\n",
       "LONGITUDE                0\n",
       "TIME_PRECISION           0\n",
       "YEAR                     0\n",
       "month                    0\n",
       "day                      0\n",
       "fatality_category        0\n",
       "dtype: int64"
      ]
     },
     "execution_count": 33,
     "metadata": {},
     "output_type": "execute_result"
    }
   ],
   "source": [
    "df.isnull().sum()"
   ]
  },
  {
   "cell_type": "code",
   "execution_count": 34,
   "metadata": {
    "execution": {
     "iopub.execute_input": "2023-08-28T06:53:42.099548Z",
     "iopub.status.busy": "2023-08-28T06:53:42.098713Z",
     "iopub.status.idle": "2023-08-28T06:53:42.160148Z",
     "shell.execute_reply": "2023-08-28T06:53:42.159169Z",
     "shell.execute_reply.started": "2023-08-28T06:53:42.099512Z"
    },
    "id": "5LrZPTJ1nbQP"
   },
   "outputs": [],
   "source": [
    "label_encoder = LabelEncoder()\n",
    "df['fatality_category'] = label_encoder.fit_transform(df['fatality_category'])"
   ]
  },
  {
   "cell_type": "code",
   "execution_count": 35,
   "metadata": {
    "colab": {
     "base_uri": "https://localhost:8080/"
    },
    "execution": {
     "iopub.execute_input": "2023-08-28T06:53:42.161926Z",
     "iopub.status.busy": "2023-08-28T06:53:42.161560Z",
     "iopub.status.idle": "2023-08-28T06:53:42.172554Z",
     "shell.execute_reply": "2023-08-28T06:53:42.171408Z",
     "shell.execute_reply.started": "2023-08-28T06:53:42.161892Z"
    },
    "id": "83kewc3VnbQQ",
    "outputId": "320d047f-73c9-4f8f-a974-5f7cc49feb87"
   },
   "outputs": [
    {
     "data": {
      "text/plain": [
       "0    157204\n",
       "2      7848\n",
       "1       756\n",
       "Name: fatality_category, dtype: int64"
      ]
     },
     "execution_count": 35,
     "metadata": {},
     "output_type": "execute_result"
    }
   ],
   "source": [
    "df['fatality_category'].value_counts()"
   ]
  },
  {
   "cell_type": "code",
   "execution_count": 36,
   "metadata": {
    "execution": {
     "iopub.execute_input": "2023-08-28T06:53:42.174713Z",
     "iopub.status.busy": "2023-08-28T06:53:42.173958Z",
     "iopub.status.idle": "2023-08-28T06:53:42.200553Z",
     "shell.execute_reply": "2023-08-28T06:53:42.199573Z",
     "shell.execute_reply.started": "2023-08-28T06:53:42.174649Z"
    },
    "id": "ZwI-fCa5nbQQ"
   },
   "outputs": [],
   "source": [
    "X = df.drop(columns=['fatality_category'])\n",
    "y = df['fatality_category']"
   ]
  },
  {
   "cell_type": "code",
   "execution_count": 37,
   "metadata": {},
   "outputs": [
    {
     "name": "stdout",
     "output_type": "stream",
     "text": [
      "<class 'pandas.core.frame.DataFrame'>\n",
      "RangeIndex: 165808 entries, 0 to 165807\n",
      "Data columns (total 20 columns):\n",
      " #   Column          Non-Null Count   Dtype \n",
      "---  ------          --------------   ----- \n",
      " 0   ACTOR1          165808 non-null  object\n",
      " 1   ACTOR2          122255 non-null  object\n",
      " 2   ACTOR_DYAD_ID   140747 non-null  object\n",
      " 3   ADMIN1          165808 non-null  object\n",
      " 4   ADMIN2          165676 non-null  object\n",
      " 5   ADMIN3          86933 non-null   object\n",
      " 6   COUNTRY         165808 non-null  object\n",
      " 7   EVENT_TYPE      165808 non-null  object\n",
      " 8   GEO_PRECISION   165808 non-null  int64 \n",
      " 9   GWNO            165808 non-null  int64 \n",
      " 10  INTER1          165808 non-null  int64 \n",
      " 11  INTER2          165808 non-null  int64 \n",
      " 12  INTERACTION     165808 non-null  int64 \n",
      " 13  LATITUDE        165808 non-null  object\n",
      " 14  LOCATION        165808 non-null  object\n",
      " 15  LONGITUDE       165808 non-null  object\n",
      " 16  TIME_PRECISION  165808 non-null  int64 \n",
      " 17  YEAR            165808 non-null  int64 \n",
      " 18  month           165808 non-null  int64 \n",
      " 19  day             165808 non-null  int64 \n",
      "dtypes: int64(9), object(11)\n",
      "memory usage: 25.3+ MB\n"
     ]
    }
   ],
   "source": [
    "X.info()"
   ]
  },
  {
   "cell_type": "code",
   "execution_count": 38,
   "metadata": {
    "execution": {
     "iopub.execute_input": "2023-08-28T06:53:42.202458Z",
     "iopub.status.busy": "2023-08-28T06:53:42.201912Z",
     "iopub.status.idle": "2023-08-28T06:53:42.338075Z",
     "shell.execute_reply": "2023-08-28T06:53:42.337037Z",
     "shell.execute_reply.started": "2023-08-28T06:53:42.202421Z"
    },
    "id": "QC1N2mvEnbQQ"
   },
   "outputs": [],
   "source": [
    "X_train, X_test, y_train, y_test = train_test_split(X, y, test_size=0.2, random_state=42)"
   ]
  },
  {
   "cell_type": "code",
   "execution_count": 39,
   "metadata": {
    "execution": {
     "iopub.execute_input": "2023-08-28T06:53:42.340116Z",
     "iopub.status.busy": "2023-08-28T06:53:42.339532Z",
     "iopub.status.idle": "2023-08-28T06:53:42.350185Z",
     "shell.execute_reply": "2023-08-28T06:53:42.348623Z",
     "shell.execute_reply.started": "2023-08-28T06:53:42.340080Z"
    },
    "id": "kMXyrMPLnbQq"
   },
   "outputs": [],
   "source": [
    "# def convert_columns_to_numeric(X_train, X_test, label_encoder=None):\n",
    "#     if label_encoder is None:\n",
    "#         label_encoder = LabelEncoder()\n",
    "\n",
    "#     for col in X_train.columns:\n",
    "#         if X_train[col].dtype == 'object':\n",
    "#             try:\n",
    "#                 X_train[col] = X_train[col].astype(str)\n",
    "#                 X_test[col] = X_test[col].astype(str)\n",
    "#                 label_encoder.fit(X_train[col])\n",
    "#                 X_train[col] = label_encoder.transform(X_train[col])\n",
    "#                 X_test[col] = label_encoder.transform(X_test[col])\n",
    "\n",
    "#             except ValueError as e:\n",
    "#                 if \"unseen label\" in str(e):\n",
    "#                     X_train[col] = label_encoder.inverse_transform(X_train[col])\n",
    "#                     combined_data = np.concatenate([X_train[col], X_test[col]])\n",
    "#                     label_encoder.fit(combined_data)\n",
    "#                     X_train[col] = label_encoder.transform(X_train[col])\n",
    "#                     X_test[col] = label_encoder.transform(X_test[col])\n",
    "\n",
    "#     return X_train, X_test, label_encoder"
   ]
  },
  {
   "cell_type": "code",
   "execution_count": 40,
   "metadata": {},
   "outputs": [],
   "source": [
    "from sklearn.preprocessing import LabelEncoder, StandardScaler\n",
    "\n",
    "def preprocess_columns(X_train, X_test, label_encoder=None, scaler=None):\n",
    "    if label_encoder is None:\n",
    "        label_encoder = LabelEncoder()\n",
    "\n",
    "    if scaler is None:\n",
    "        scaler = StandardScaler()\n",
    "\n",
    "    for col in X_train.columns:\n",
    "        if X_train[col].dtype == 'object':\n",
    "            try:\n",
    "                X_train[col] = X_train[col].astype(str)\n",
    "                X_test[col] = X_test[col].astype(str)\n",
    "                label_encoder.fit(X_train[col])\n",
    "                X_train[col] = label_encoder.transform(X_train[col])\n",
    "                X_test[col] = label_encoder.transform(X_test[col])\n",
    "\n",
    "            except ValueError as e:\n",
    "                if \"unseen label\" in str(e):\n",
    "                    X_train[col] = label_encoder.inverse_transform(X_train[col])\n",
    "                    combined_data = np.concatenate([X_train[col], X_test[col]])\n",
    "                    label_encoder.fit(combined_data)\n",
    "                    X_train[col] = label_encoder.transform(X_train[col])\n",
    "                    X_test[col] = label_encoder.transform(X_test[col])\n",
    "        \n",
    "        elif X_train[col].dtype == 'float64' or X_train[col].dtype == 'int64':\n",
    "            try:\n",
    "                X_train[col] = X_train[col].astype(float)\n",
    "                X_test[col] = X_test[col].astype(float)\n",
    "                scaler.fit(X_train[col].values.reshape(-1, 1))\n",
    "                X_train[col] = scaler.transform(X_train[col].values.reshape(-1, 1))\n",
    "                X_test[col] = scaler.transform(X_test[col].values.reshape(-1, 1))\n",
    "            except ValueError as e:\n",
    "                print(f\"Error processing column {col}: {str(e)}\")\n",
    "\n",
    "    return X_train, X_test, label_encoder, scaler\n"
   ]
  },
  {
   "cell_type": "code",
   "execution_count": 41,
   "metadata": {},
   "outputs": [],
   "source": [
    "# Assume X_train and X_test are your dataframes\n",
    "\n",
    "# Preprocess columns and apply label encoding and standardization\n",
    "X_train_processed, X_test_processed, label_encoder, scaler = preprocess_columns(X_train, X_test)\n",
    "\n",
    "# Now you can proceed with your modeling steps using the preprocessed data\n"
   ]
  },
  {
   "cell_type": "code",
   "execution_count": 43,
   "metadata": {
    "execution": {
     "iopub.execute_input": "2023-08-28T06:53:42.412984Z",
     "iopub.status.busy": "2023-08-28T06:53:42.412506Z",
     "iopub.status.idle": "2023-08-28T06:53:44.387188Z",
     "shell.execute_reply": "2023-08-28T06:53:44.386164Z",
     "shell.execute_reply.started": "2023-08-28T06:53:42.412956Z"
    },
    "id": "d0hvPm8AnbQr"
   },
   "outputs": [],
   "source": [
    "# X_train, X_test, label_encoder= convert_columns_to_numeric(X_train, X_test)"
   ]
  },
  {
   "cell_type": "code",
   "execution_count": 44,
   "metadata": {
    "colab": {
     "base_uri": "https://localhost:8080/"
    },
    "id": "syCLUPyBsAOZ",
    "outputId": "650f0c8d-938a-4708-bf91-3c07f2ad3484"
   },
   "outputs": [
    {
     "data": {
      "text/plain": [
       "['label_encoder.joblib']"
      ]
     },
     "execution_count": 44,
     "metadata": {},
     "output_type": "execute_result"
    }
   ],
   "source": [
    "joblib.dump(label_encoder, \"label_encoder.joblib\")"
   ]
  },
  {
   "cell_type": "code",
   "execution_count": null,
   "metadata": {
    "id": "FBCPHSrvsDRG"
   },
   "outputs": [],
   "source": []
  },
  {
   "cell_type": "code",
   "execution_count": null,
   "metadata": {
    "id": "PGjyzcEAsAJL"
   },
   "outputs": [],
   "source": []
  },
  {
   "cell_type": "code",
   "execution_count": 45,
   "metadata": {
    "colab": {
     "base_uri": "https://localhost:8080/",
     "height": 226
    },
    "execution": {
     "iopub.execute_input": "2023-08-28T06:53:44.389173Z",
     "iopub.status.busy": "2023-08-28T06:53:44.388803Z",
     "iopub.status.idle": "2023-08-28T06:53:44.405984Z",
     "shell.execute_reply": "2023-08-28T06:53:44.404880Z",
     "shell.execute_reply.started": "2023-08-28T06:53:44.389138Z"
    },
    "id": "cyTGgbH8nbQs",
    "outputId": "35e5f8ec-06ee-4218-9b62-d926dc63c616"
   },
   "outputs": [
    {
     "data": {
      "text/html": [
       "<div>\n",
       "<style scoped>\n",
       "    .dataframe tbody tr th:only-of-type {\n",
       "        vertical-align: middle;\n",
       "    }\n",
       "\n",
       "    .dataframe tbody tr th {\n",
       "        vertical-align: top;\n",
       "    }\n",
       "\n",
       "    .dataframe thead th {\n",
       "        text-align: right;\n",
       "    }\n",
       "</style>\n",
       "<table border=\"1\" class=\"dataframe\">\n",
       "  <thead>\n",
       "    <tr style=\"text-align: right;\">\n",
       "      <th></th>\n",
       "      <th>ACTOR1</th>\n",
       "      <th>ACTOR2</th>\n",
       "      <th>ACTOR_DYAD_ID</th>\n",
       "      <th>ADMIN1</th>\n",
       "      <th>ADMIN2</th>\n",
       "      <th>ADMIN3</th>\n",
       "      <th>COUNTRY</th>\n",
       "      <th>EVENT_TYPE</th>\n",
       "      <th>GEO_PRECISION</th>\n",
       "      <th>GWNO</th>\n",
       "      <th>INTER1</th>\n",
       "      <th>INTER2</th>\n",
       "      <th>INTERACTION</th>\n",
       "      <th>LATITUDE</th>\n",
       "      <th>LOCATION</th>\n",
       "      <th>LONGITUDE</th>\n",
       "      <th>TIME_PRECISION</th>\n",
       "      <th>YEAR</th>\n",
       "      <th>month</th>\n",
       "      <th>day</th>\n",
       "    </tr>\n",
       "  </thead>\n",
       "  <tbody>\n",
       "    <tr>\n",
       "      <th>97567</th>\n",
       "      <td>2583</td>\n",
       "      <td>2827</td>\n",
       "      <td>553</td>\n",
       "      <td>205</td>\n",
       "      <td>32</td>\n",
       "      <td>4788</td>\n",
       "      <td>34</td>\n",
       "      <td>8</td>\n",
       "      <td>-0.498079</td>\n",
       "      <td>-1.020455</td>\n",
       "      <td>1.287249</td>\n",
       "      <td>-1.094943</td>\n",
       "      <td>1.534722</td>\n",
       "      <td>17741</td>\n",
       "      <td>168</td>\n",
       "      <td>17639</td>\n",
       "      <td>-0.315738</td>\n",
       "      <td>-0.130173</td>\n",
       "      <td>0.506851</td>\n",
       "      <td>1.099935</td>\n",
       "    </tr>\n",
       "    <tr>\n",
       "      <th>154609</th>\n",
       "      <td>3111</td>\n",
       "      <td>484</td>\n",
       "      <td>8832</td>\n",
       "      <td>355</td>\n",
       "      <td>2179</td>\n",
       "      <td>205</td>\n",
       "      <td>47</td>\n",
       "      <td>13</td>\n",
       "      <td>1.413283</td>\n",
       "      <td>-0.617458</td>\n",
       "      <td>-0.188579</td>\n",
       "      <td>1.301663</td>\n",
       "      <td>0.275101</td>\n",
       "      <td>6473</td>\n",
       "      <td>8016</td>\n",
       "      <td>12583</td>\n",
       "      <td>-0.315738</td>\n",
       "      <td>-1.655132</td>\n",
       "      <td>1.378813</td>\n",
       "      <td>-1.406434</td>\n",
       "    </tr>\n",
       "    <tr>\n",
       "      <th>25997</th>\n",
       "      <td>63</td>\n",
       "      <td>1384</td>\n",
       "      <td>7950</td>\n",
       "      <td>104</td>\n",
       "      <td>3791</td>\n",
       "      <td>4788</td>\n",
       "      <td>0</td>\n",
       "      <td>1</td>\n",
       "      <td>-0.498079</td>\n",
       "      <td>1.236328</td>\n",
       "      <td>-0.680522</td>\n",
       "      <td>-0.752571</td>\n",
       "      <td>-1.094052</td>\n",
       "      <td>13690</td>\n",
       "      <td>16419</td>\n",
       "      <td>9719</td>\n",
       "      <td>-0.315738</td>\n",
       "      <td>-0.130173</td>\n",
       "      <td>0.506851</td>\n",
       "      <td>-1.292508</td>\n",
       "    </tr>\n",
       "    <tr>\n",
       "      <th>14638</th>\n",
       "      <td>161</td>\n",
       "      <td>451</td>\n",
       "      <td>9520</td>\n",
       "      <td>358</td>\n",
       "      <td>2734</td>\n",
       "      <td>1386</td>\n",
       "      <td>21</td>\n",
       "      <td>13</td>\n",
       "      <td>-0.498079</td>\n",
       "      <td>-0.601338</td>\n",
       "      <td>-0.680522</td>\n",
       "      <td>1.301663</td>\n",
       "      <td>-0.272560</td>\n",
       "      <td>5160</td>\n",
       "      <td>11417</td>\n",
       "      <td>13879</td>\n",
       "      <td>-0.315738</td>\n",
       "      <td>0.886466</td>\n",
       "      <td>-0.365111</td>\n",
       "      <td>-0.950730</td>\n",
       "    </tr>\n",
       "    <tr>\n",
       "      <th>25193</th>\n",
       "      <td>826</td>\n",
       "      <td>1979</td>\n",
       "      <td>1068</td>\n",
       "      <td>679</td>\n",
       "      <td>3815</td>\n",
       "      <td>4788</td>\n",
       "      <td>0</td>\n",
       "      <td>1</td>\n",
       "      <td>-0.498079</td>\n",
       "      <td>1.236328</td>\n",
       "      <td>-0.680522</td>\n",
       "      <td>-0.752571</td>\n",
       "      <td>-1.094052</td>\n",
       "      <td>13023</td>\n",
       "      <td>16519</td>\n",
       "      <td>2302</td>\n",
       "      <td>-0.315738</td>\n",
       "      <td>-1.824572</td>\n",
       "      <td>0.216197</td>\n",
       "      <td>-1.520359</td>\n",
       "    </tr>\n",
       "  </tbody>\n",
       "</table>\n",
       "</div>"
      ],
      "text/plain": [
       "        ACTOR1  ACTOR2  ACTOR_DYAD_ID  ADMIN1  ADMIN2  ADMIN3  COUNTRY  \\\n",
       "97567     2583    2827            553     205      32    4788       34   \n",
       "154609    3111     484           8832     355    2179     205       47   \n",
       "25997       63    1384           7950     104    3791    4788        0   \n",
       "14638      161     451           9520     358    2734    1386       21   \n",
       "25193      826    1979           1068     679    3815    4788        0   \n",
       "\n",
       "        EVENT_TYPE  GEO_PRECISION      GWNO    INTER1    INTER2  INTERACTION  \\\n",
       "97567            8      -0.498079 -1.020455  1.287249 -1.094943     1.534722   \n",
       "154609          13       1.413283 -0.617458 -0.188579  1.301663     0.275101   \n",
       "25997            1      -0.498079  1.236328 -0.680522 -0.752571    -1.094052   \n",
       "14638           13      -0.498079 -0.601338 -0.680522  1.301663    -0.272560   \n",
       "25193            1      -0.498079  1.236328 -0.680522 -0.752571    -1.094052   \n",
       "\n",
       "        LATITUDE  LOCATION  LONGITUDE  TIME_PRECISION      YEAR     month  \\\n",
       "97567      17741       168      17639       -0.315738 -0.130173  0.506851   \n",
       "154609      6473      8016      12583       -0.315738 -1.655132  1.378813   \n",
       "25997      13690     16419       9719       -0.315738 -0.130173  0.506851   \n",
       "14638       5160     11417      13879       -0.315738  0.886466 -0.365111   \n",
       "25193      13023     16519       2302       -0.315738 -1.824572  0.216197   \n",
       "\n",
       "             day  \n",
       "97567   1.099935  \n",
       "154609 -1.406434  \n",
       "25997  -1.292508  \n",
       "14638  -0.950730  \n",
       "25193  -1.520359  "
      ]
     },
     "execution_count": 45,
     "metadata": {},
     "output_type": "execute_result"
    }
   ],
   "source": [
    "X_train.head()"
   ]
  },
  {
   "cell_type": "code",
   "execution_count": 46,
   "metadata": {
    "colab": {
     "base_uri": "https://localhost:8080/",
     "height": 226
    },
    "execution": {
     "iopub.execute_input": "2023-08-28T06:53:44.408373Z",
     "iopub.status.busy": "2023-08-28T06:53:44.407566Z",
     "iopub.status.idle": "2023-08-28T06:53:44.429773Z",
     "shell.execute_reply": "2023-08-28T06:53:44.428657Z",
     "shell.execute_reply.started": "2023-08-28T06:53:44.408336Z"
    },
    "id": "Jdon3VnHnbQs",
    "outputId": "a2f3b1e7-d24b-4bfb-fe38-e30e378d9a37"
   },
   "outputs": [
    {
     "data": {
      "text/html": [
       "<div>\n",
       "<style scoped>\n",
       "    .dataframe tbody tr th:only-of-type {\n",
       "        vertical-align: middle;\n",
       "    }\n",
       "\n",
       "    .dataframe tbody tr th {\n",
       "        vertical-align: top;\n",
       "    }\n",
       "\n",
       "    .dataframe thead th {\n",
       "        text-align: right;\n",
       "    }\n",
       "</style>\n",
       "<table border=\"1\" class=\"dataframe\">\n",
       "  <thead>\n",
       "    <tr style=\"text-align: right;\">\n",
       "      <th></th>\n",
       "      <th>ACTOR1</th>\n",
       "      <th>ACTOR2</th>\n",
       "      <th>ACTOR_DYAD_ID</th>\n",
       "      <th>ADMIN1</th>\n",
       "      <th>ADMIN2</th>\n",
       "      <th>ADMIN3</th>\n",
       "      <th>COUNTRY</th>\n",
       "      <th>EVENT_TYPE</th>\n",
       "      <th>GEO_PRECISION</th>\n",
       "      <th>GWNO</th>\n",
       "      <th>INTER1</th>\n",
       "      <th>INTER2</th>\n",
       "      <th>INTERACTION</th>\n",
       "      <th>LATITUDE</th>\n",
       "      <th>LOCATION</th>\n",
       "      <th>LONGITUDE</th>\n",
       "      <th>TIME_PRECISION</th>\n",
       "      <th>YEAR</th>\n",
       "      <th>month</th>\n",
       "      <th>day</th>\n",
       "    </tr>\n",
       "  </thead>\n",
       "  <tbody>\n",
       "    <tr>\n",
       "      <th>108960</th>\n",
       "      <td>161</td>\n",
       "      <td>1541</td>\n",
       "      <td>2600</td>\n",
       "      <td>56</td>\n",
       "      <td>2674</td>\n",
       "      <td>4788</td>\n",
       "      <td>39</td>\n",
       "      <td>1</td>\n",
       "      <td>-0.498079</td>\n",
       "      <td>-0.295061</td>\n",
       "      <td>-0.680522</td>\n",
       "      <td>-0.752571</td>\n",
       "      <td>-1.094052</td>\n",
       "      <td>10247</td>\n",
       "      <td>6733</td>\n",
       "      <td>15708</td>\n",
       "      <td>-0.315738</td>\n",
       "      <td>0.039267</td>\n",
       "      <td>-0.365111</td>\n",
       "      <td>-0.381101</td>\n",
       "    </tr>\n",
       "    <tr>\n",
       "      <th>45189</th>\n",
       "      <td>1839</td>\n",
       "      <td>1570</td>\n",
       "      <td>3850</td>\n",
       "      <td>196</td>\n",
       "      <td>1272</td>\n",
       "      <td>466</td>\n",
       "      <td>9</td>\n",
       "      <td>7</td>\n",
       "      <td>-0.498079</td>\n",
       "      <td>-0.778657</td>\n",
       "      <td>2.271135</td>\n",
       "      <td>1.644036</td>\n",
       "      <td>3.068174</td>\n",
       "      <td>5831</td>\n",
       "      <td>2465</td>\n",
       "      <td>4704</td>\n",
       "      <td>-0.315738</td>\n",
       "      <td>-1.994011</td>\n",
       "      <td>-0.655765</td>\n",
       "      <td>-0.836804</td>\n",
       "    </tr>\n",
       "    <tr>\n",
       "      <th>103759</th>\n",
       "      <td>2635</td>\n",
       "      <td>2827</td>\n",
       "      <td>583</td>\n",
       "      <td>525</td>\n",
       "      <td>3837</td>\n",
       "      <td>2003</td>\n",
       "      <td>38</td>\n",
       "      <td>4</td>\n",
       "      <td>1.413283</td>\n",
       "      <td>-1.407332</td>\n",
       "      <td>-0.680522</td>\n",
       "      <td>-1.094943</td>\n",
       "      <td>-0.655923</td>\n",
       "      <td>17518</td>\n",
       "      <td>10504</td>\n",
       "      <td>728</td>\n",
       "      <td>4.200256</td>\n",
       "      <td>-2.332891</td>\n",
       "      <td>-0.074457</td>\n",
       "      <td>-0.039323</td>\n",
       "    </tr>\n",
       "    <tr>\n",
       "      <th>45803</th>\n",
       "      <td>3072</td>\n",
       "      <td>431</td>\n",
       "      <td>7076</td>\n",
       "      <td>57</td>\n",
       "      <td>2197</td>\n",
       "      <td>1729</td>\n",
       "      <td>9</td>\n",
       "      <td>13</td>\n",
       "      <td>-0.498079</td>\n",
       "      <td>-0.778657</td>\n",
       "      <td>-0.188579</td>\n",
       "      <td>1.301663</td>\n",
       "      <td>0.275101</td>\n",
       "      <td>5578</td>\n",
       "      <td>12745</td>\n",
       "      <td>4715</td>\n",
       "      <td>-0.315738</td>\n",
       "      <td>-1.316252</td>\n",
       "      <td>-0.655765</td>\n",
       "      <td>-0.608953</td>\n",
       "    </tr>\n",
       "    <tr>\n",
       "      <th>157483</th>\n",
       "      <td>350</td>\n",
       "      <td>246</td>\n",
       "      <td>6065</td>\n",
       "      <td>311</td>\n",
       "      <td>746</td>\n",
       "      <td>2616</td>\n",
       "      <td>47</td>\n",
       "      <td>1</td>\n",
       "      <td>1.413283</td>\n",
       "      <td>-0.617458</td>\n",
       "      <td>0.303363</td>\n",
       "      <td>0.274546</td>\n",
       "      <td>0.658464</td>\n",
       "      <td>5871</td>\n",
       "      <td>14909</td>\n",
       "      <td>9900</td>\n",
       "      <td>-0.315738</td>\n",
       "      <td>-0.469053</td>\n",
       "      <td>-0.946419</td>\n",
       "      <td>0.644232</td>\n",
       "    </tr>\n",
       "  </tbody>\n",
       "</table>\n",
       "</div>"
      ],
      "text/plain": [
       "        ACTOR1  ACTOR2  ACTOR_DYAD_ID  ADMIN1  ADMIN2  ADMIN3  COUNTRY  \\\n",
       "108960     161    1541           2600      56    2674    4788       39   \n",
       "45189     1839    1570           3850     196    1272     466        9   \n",
       "103759    2635    2827            583     525    3837    2003       38   \n",
       "45803     3072     431           7076      57    2197    1729        9   \n",
       "157483     350     246           6065     311     746    2616       47   \n",
       "\n",
       "        EVENT_TYPE  GEO_PRECISION      GWNO    INTER1    INTER2  INTERACTION  \\\n",
       "108960           1      -0.498079 -0.295061 -0.680522 -0.752571    -1.094052   \n",
       "45189            7      -0.498079 -0.778657  2.271135  1.644036     3.068174   \n",
       "103759           4       1.413283 -1.407332 -0.680522 -1.094943    -0.655923   \n",
       "45803           13      -0.498079 -0.778657 -0.188579  1.301663     0.275101   \n",
       "157483           1       1.413283 -0.617458  0.303363  0.274546     0.658464   \n",
       "\n",
       "        LATITUDE  LOCATION  LONGITUDE  TIME_PRECISION      YEAR     month  \\\n",
       "108960     10247      6733      15708       -0.315738  0.039267 -0.365111   \n",
       "45189       5831      2465       4704       -0.315738 -1.994011 -0.655765   \n",
       "103759     17518     10504        728        4.200256 -2.332891 -0.074457   \n",
       "45803       5578     12745       4715       -0.315738 -1.316252 -0.655765   \n",
       "157483      5871     14909       9900       -0.315738 -0.469053 -0.946419   \n",
       "\n",
       "             day  \n",
       "108960 -0.381101  \n",
       "45189  -0.836804  \n",
       "103759 -0.039323  \n",
       "45803  -0.608953  \n",
       "157483  0.644232  "
      ]
     },
     "execution_count": 46,
     "metadata": {},
     "output_type": "execute_result"
    }
   ],
   "source": [
    "X_test.head()"
   ]
  },
  {
   "cell_type": "code",
   "execution_count": 47,
   "metadata": {
    "colab": {
     "base_uri": "https://localhost:8080/"
    },
    "execution": {
     "iopub.execute_input": "2023-08-28T06:53:44.431931Z",
     "iopub.status.busy": "2023-08-28T06:53:44.431377Z",
     "iopub.status.idle": "2023-08-28T06:53:44.452622Z",
     "shell.execute_reply": "2023-08-28T06:53:44.451630Z",
     "shell.execute_reply.started": "2023-08-28T06:53:44.431891Z"
    },
    "id": "Co_386UknbQs",
    "outputId": "5e628129-6fc5-4dd3-b529-87dd1c5cac1c"
   },
   "outputs": [
    {
     "name": "stdout",
     "output_type": "stream",
     "text": [
      "<class 'pandas.core.frame.DataFrame'>\n",
      "Int64Index: 132646 entries, 97567 to 121958\n",
      "Data columns (total 20 columns):\n",
      " #   Column          Non-Null Count   Dtype  \n",
      "---  ------          --------------   -----  \n",
      " 0   ACTOR1          132646 non-null  int32  \n",
      " 1   ACTOR2          132646 non-null  int32  \n",
      " 2   ACTOR_DYAD_ID   132646 non-null  int32  \n",
      " 3   ADMIN1          132646 non-null  int32  \n",
      " 4   ADMIN2          132646 non-null  int32  \n",
      " 5   ADMIN3          132646 non-null  int32  \n",
      " 6   COUNTRY         132646 non-null  int32  \n",
      " 7   EVENT_TYPE      132646 non-null  int32  \n",
      " 8   GEO_PRECISION   132646 non-null  float64\n",
      " 9   GWNO            132646 non-null  float64\n",
      " 10  INTER1          132646 non-null  float64\n",
      " 11  INTER2          132646 non-null  float64\n",
      " 12  INTERACTION     132646 non-null  float64\n",
      " 13  LATITUDE        132646 non-null  int32  \n",
      " 14  LOCATION        132646 non-null  int32  \n",
      " 15  LONGITUDE       132646 non-null  int32  \n",
      " 16  TIME_PRECISION  132646 non-null  float64\n",
      " 17  YEAR            132646 non-null  float64\n",
      " 18  month           132646 non-null  float64\n",
      " 19  day             132646 non-null  float64\n",
      "dtypes: float64(9), int32(11)\n",
      "memory usage: 15.7 MB\n"
     ]
    }
   ],
   "source": [
    "X_train.info()"
   ]
  },
  {
   "cell_type": "code",
   "execution_count": 67,
   "metadata": {
    "execution": {
     "iopub.execute_input": "2023-08-28T06:53:44.454930Z",
     "iopub.status.busy": "2023-08-28T06:53:44.454197Z",
     "iopub.status.idle": "2023-08-28T06:53:44.627160Z",
     "shell.execute_reply": "2023-08-28T06:53:44.626149Z",
     "shell.execute_reply.started": "2023-08-28T06:53:44.454893Z"
    },
    "id": "wkTBYajpnbQt"
   },
   "outputs": [],
   "source": [
    "scaler = RobustScaler()\n",
    "\n",
    "X_train_scaled = scaler.fit_transform(X_train_processed)\n",
    "X_test_scaled = scaler.transform(X_test_processed)"
   ]
  },
  {
   "cell_type": "code",
   "execution_count": 68,
   "metadata": {
    "colab": {
     "base_uri": "https://localhost:8080/"
    },
    "id": "ne8gWBYbsH1k",
    "outputId": "29066f2a-6c6a-4c21-b3d9-e2f71fa0a02a"
   },
   "outputs": [
    {
     "data": {
      "text/plain": [
       "['scaler.joblib']"
      ]
     },
     "execution_count": 68,
     "metadata": {},
     "output_type": "execute_result"
    }
   ],
   "source": [
    "joblib.dump(scaler, \"scaler.joblib\")"
   ]
  },
  {
   "cell_type": "code",
   "execution_count": 50,
   "metadata": {
    "execution": {
     "iopub.execute_input": "2023-08-28T06:53:44.629632Z",
     "iopub.status.busy": "2023-08-28T06:53:44.628923Z",
     "iopub.status.idle": "2023-08-28T06:53:45.180983Z",
     "shell.execute_reply": "2023-08-28T06:53:45.179977Z",
     "shell.execute_reply.started": "2023-08-28T06:53:44.629597Z"
    },
    "id": "6on-W_LYnbQt"
   },
   "outputs": [],
   "source": [
    "smote = SMOTE(sampling_strategy='auto', random_state=42)\n",
    "X_smote, y_smote = smote.fit_resample(X_train_scaled, y_train)"
   ]
  },
  {
   "cell_type": "code",
   "execution_count": 51,
   "metadata": {
    "colab": {
     "base_uri": "https://localhost:8080/"
    },
    "execution": {
     "iopub.execute_input": "2023-08-28T06:53:45.183422Z",
     "iopub.status.busy": "2023-08-28T06:53:45.182684Z",
     "iopub.status.idle": "2023-08-28T06:53:45.189745Z",
     "shell.execute_reply": "2023-08-28T06:53:45.188923Z",
     "shell.execute_reply.started": "2023-08-28T06:53:45.183386Z"
    },
    "id": "U-3yIuMunbQt",
    "outputId": "d0d8f395-2c0d-4a01-cd40-ff473168bc28"
   },
   "outputs": [
    {
     "data": {
      "text/plain": [
       "(132646, 20)"
      ]
     },
     "execution_count": 51,
     "metadata": {},
     "output_type": "execute_result"
    }
   ],
   "source": [
    "X_train.shape"
   ]
  },
  {
   "cell_type": "code",
   "execution_count": 52,
   "metadata": {
    "colab": {
     "base_uri": "https://localhost:8080/"
    },
    "execution": {
     "iopub.execute_input": "2023-08-28T06:53:45.196699Z",
     "iopub.status.busy": "2023-08-28T06:53:45.195966Z",
     "iopub.status.idle": "2023-08-28T06:53:45.221283Z",
     "shell.execute_reply": "2023-08-28T06:53:45.220334Z",
     "shell.execute_reply.started": "2023-08-28T06:53:45.196666Z"
    },
    "id": "P_4uGrqxnbQu",
    "outputId": "accc3b8c-e629-4c2f-d85a-cf7e7ef0ccc0"
   },
   "outputs": [
    {
     "data": {
      "text/plain": [
       "0    0.948163\n",
       "2    0.047223\n",
       "1    0.004614\n",
       "Name: fatality_category, dtype: float64"
      ]
     },
     "execution_count": 52,
     "metadata": {},
     "output_type": "execute_result"
    }
   ],
   "source": [
    "y_train.value_counts(normalize=True)"
   ]
  },
  {
   "cell_type": "code",
   "execution_count": 53,
   "metadata": {
    "colab": {
     "base_uri": "https://localhost:8080/"
    },
    "execution": {
     "iopub.execute_input": "2023-08-28T06:53:45.224033Z",
     "iopub.status.busy": "2023-08-28T06:53:45.222811Z",
     "iopub.status.idle": "2023-08-28T06:53:45.237576Z",
     "shell.execute_reply": "2023-08-28T06:53:45.236766Z",
     "shell.execute_reply.started": "2023-08-28T06:53:45.223997Z"
    },
    "id": "aOF5p5JSnbQu",
    "outputId": "1afdec6f-dfdc-4dd6-a8ea-359c018d29c6"
   },
   "outputs": [
    {
     "data": {
      "text/plain": [
       "0    0.947892\n",
       "2    0.047766\n",
       "1    0.004342\n",
       "Name: fatality_category, dtype: float64"
      ]
     },
     "execution_count": 53,
     "metadata": {},
     "output_type": "execute_result"
    }
   ],
   "source": [
    "y_test.value_counts(normalize=True)"
   ]
  },
  {
   "cell_type": "code",
   "execution_count": 54,
   "metadata": {
    "colab": {
     "base_uri": "https://localhost:8080/"
    },
    "execution": {
     "iopub.execute_input": "2023-08-28T06:53:45.239607Z",
     "iopub.status.busy": "2023-08-28T06:53:45.238984Z",
     "iopub.status.idle": "2023-08-28T06:53:45.259286Z",
     "shell.execute_reply": "2023-08-28T06:53:45.258018Z",
     "shell.execute_reply.started": "2023-08-28T06:53:45.239559Z"
    },
    "id": "6K7kTTAfnbQu",
    "outputId": "e272422d-7134-45f1-d3a5-09c42e271051"
   },
   "outputs": [
    {
     "name": "stdout",
     "output_type": "stream",
     "text": [
      "Original class distribution: 0    125770\n",
      "2      6264\n",
      "1       612\n",
      "Name: fatality_category, dtype: int64\n",
      "Resampled class distribution: 0    125770\n",
      "2    125770\n",
      "1    125770\n",
      "Name: fatality_category, dtype: int64\n"
     ]
    }
   ],
   "source": [
    "print(\"Original class distribution:\", pd.Series(y_train).value_counts())\n",
    "print(\"Resampled class distribution:\", pd.Series(y_smote).value_counts())"
   ]
  },
  {
   "cell_type": "code",
   "execution_count": 55,
   "metadata": {
    "colab": {
     "base_uri": "https://localhost:8080/",
     "height": 75
    },
    "execution": {
     "iopub.execute_input": "2023-08-28T06:53:45.262545Z",
     "iopub.status.busy": "2023-08-28T06:53:45.261993Z",
     "iopub.status.idle": "2023-08-28T06:53:47.125079Z",
     "shell.execute_reply": "2023-08-28T06:53:47.123995Z",
     "shell.execute_reply.started": "2023-08-28T06:53:45.262512Z"
    },
    "id": "RLks1a8vnbQv",
    "outputId": "4023d978-d4a2-498a-ee72-ec41dd1ee9f8"
   },
   "outputs": [
    {
     "data": {
      "text/html": [
       "<style>#sk-container-id-1 {color: black;}#sk-container-id-1 pre{padding: 0;}#sk-container-id-1 div.sk-toggleable {background-color: white;}#sk-container-id-1 label.sk-toggleable__label {cursor: pointer;display: block;width: 100%;margin-bottom: 0;padding: 0.3em;box-sizing: border-box;text-align: center;}#sk-container-id-1 label.sk-toggleable__label-arrow:before {content: \"▸\";float: left;margin-right: 0.25em;color: #696969;}#sk-container-id-1 label.sk-toggleable__label-arrow:hover:before {color: black;}#sk-container-id-1 div.sk-estimator:hover label.sk-toggleable__label-arrow:before {color: black;}#sk-container-id-1 div.sk-toggleable__content {max-height: 0;max-width: 0;overflow: hidden;text-align: left;background-color: #f0f8ff;}#sk-container-id-1 div.sk-toggleable__content pre {margin: 0.2em;color: black;border-radius: 0.25em;background-color: #f0f8ff;}#sk-container-id-1 input.sk-toggleable__control:checked~div.sk-toggleable__content {max-height: 200px;max-width: 100%;overflow: auto;}#sk-container-id-1 input.sk-toggleable__control:checked~label.sk-toggleable__label-arrow:before {content: \"▾\";}#sk-container-id-1 div.sk-estimator input.sk-toggleable__control:checked~label.sk-toggleable__label {background-color: #d4ebff;}#sk-container-id-1 div.sk-label input.sk-toggleable__control:checked~label.sk-toggleable__label {background-color: #d4ebff;}#sk-container-id-1 input.sk-hidden--visually {border: 0;clip: rect(1px 1px 1px 1px);clip: rect(1px, 1px, 1px, 1px);height: 1px;margin: -1px;overflow: hidden;padding: 0;position: absolute;width: 1px;}#sk-container-id-1 div.sk-estimator {font-family: monospace;background-color: #f0f8ff;border: 1px dotted black;border-radius: 0.25em;box-sizing: border-box;margin-bottom: 0.5em;}#sk-container-id-1 div.sk-estimator:hover {background-color: #d4ebff;}#sk-container-id-1 div.sk-parallel-item::after {content: \"\";width: 100%;border-bottom: 1px solid gray;flex-grow: 1;}#sk-container-id-1 div.sk-label:hover label.sk-toggleable__label {background-color: #d4ebff;}#sk-container-id-1 div.sk-serial::before {content: \"\";position: absolute;border-left: 1px solid gray;box-sizing: border-box;top: 0;bottom: 0;left: 50%;z-index: 0;}#sk-container-id-1 div.sk-serial {display: flex;flex-direction: column;align-items: center;background-color: white;padding-right: 0.2em;padding-left: 0.2em;position: relative;}#sk-container-id-1 div.sk-item {position: relative;z-index: 1;}#sk-container-id-1 div.sk-parallel {display: flex;align-items: stretch;justify-content: center;background-color: white;position: relative;}#sk-container-id-1 div.sk-item::before, #sk-container-id-1 div.sk-parallel-item::before {content: \"\";position: absolute;border-left: 1px solid gray;box-sizing: border-box;top: 0;bottom: 0;left: 50%;z-index: -1;}#sk-container-id-1 div.sk-parallel-item {display: flex;flex-direction: column;z-index: 1;position: relative;background-color: white;}#sk-container-id-1 div.sk-parallel-item:first-child::after {align-self: flex-end;width: 50%;}#sk-container-id-1 div.sk-parallel-item:last-child::after {align-self: flex-start;width: 50%;}#sk-container-id-1 div.sk-parallel-item:only-child::after {width: 0;}#sk-container-id-1 div.sk-dashed-wrapped {border: 1px dashed gray;margin: 0 0.4em 0.5em 0.4em;box-sizing: border-box;padding-bottom: 0.4em;background-color: white;}#sk-container-id-1 div.sk-label label {font-family: monospace;font-weight: bold;display: inline-block;line-height: 1.2em;}#sk-container-id-1 div.sk-label-container {text-align: center;}#sk-container-id-1 div.sk-container {/* jupyter's `normalize.less` sets `[hidden] { display: none; }` but bootstrap.min.css set `[hidden] { display: none !important; }` so we also need the `!important` here to be able to override the default hidden behavior on the sphinx rendered scikit-learn.org. See: https://github.com/scikit-learn/scikit-learn/issues/21755 */display: inline-block !important;position: relative;}#sk-container-id-1 div.sk-text-repr-fallback {display: none;}</style><div id=\"sk-container-id-1\" class=\"sk-top-container\"><div class=\"sk-text-repr-fallback\"><pre>DecisionTreeClassifier(random_state=42)</pre><b>In a Jupyter environment, please rerun this cell to show the HTML representation or trust the notebook. <br />On GitHub, the HTML representation is unable to render, please try loading this page with nbviewer.org.</b></div><div class=\"sk-container\" hidden><div class=\"sk-item\"><div class=\"sk-estimator sk-toggleable\"><input class=\"sk-toggleable__control sk-hidden--visually\" id=\"sk-estimator-id-1\" type=\"checkbox\" checked><label for=\"sk-estimator-id-1\" class=\"sk-toggleable__label sk-toggleable__label-arrow\">DecisionTreeClassifier</label><div class=\"sk-toggleable__content\"><pre>DecisionTreeClassifier(random_state=42)</pre></div></div></div></div></div>"
      ],
      "text/plain": [
       "DecisionTreeClassifier(random_state=42)"
      ]
     },
     "execution_count": 55,
     "metadata": {},
     "output_type": "execute_result"
    }
   ],
   "source": [
    "clf = DecisionTreeClassifier(random_state=42)\n",
    "\n",
    "# Train the model on the training data\n",
    "clf.fit(X_train_scaled, y_train)\n"
   ]
  },
  {
   "cell_type": "code",
   "execution_count": 56,
   "metadata": {
    "colab": {
     "base_uri": "https://localhost:8080/"
    },
    "execution": {
     "iopub.execute_input": "2023-08-28T06:53:47.127076Z",
     "iopub.status.busy": "2023-08-28T06:53:47.126661Z",
     "iopub.status.idle": "2023-08-28T06:53:47.140853Z",
     "shell.execute_reply": "2023-08-28T06:53:47.139202Z",
     "shell.execute_reply.started": "2023-08-28T06:53:47.127040Z"
    },
    "id": "0VF8Ao5QnbQv",
    "outputId": "794080bc-fb09-4257-93e8-9667450d3722"
   },
   "outputs": [
    {
     "name": "stdout",
     "output_type": "stream",
     "text": [
      "Accuracy for test: 0.7918400578975936\n"
     ]
    }
   ],
   "source": [
    "y_pred = clf.predict(X_test)\n",
    "\n",
    "# Calculate accuracy\n",
    "print(\"Accuracy for test:\", accuracy_score(y_test, y_pred))"
   ]
  },
  {
   "cell_type": "code",
   "execution_count": 57,
   "metadata": {
    "colab": {
     "base_uri": "https://localhost:8080/"
    },
    "execution": {
     "iopub.execute_input": "2023-08-28T06:53:47.143308Z",
     "iopub.status.busy": "2023-08-28T06:53:47.142573Z",
     "iopub.status.idle": "2023-08-28T06:53:47.165563Z",
     "shell.execute_reply": "2023-08-28T06:53:47.164405Z",
     "shell.execute_reply.started": "2023-08-28T06:53:47.143268Z"
    },
    "id": "swEdQX16nbQw",
    "outputId": "b0ef9915-dfc2-4ff9-ce5f-cd02e68bd592"
   },
   "outputs": [
    {
     "name": "stdout",
     "output_type": "stream",
     "text": [
      "Accuracy for train: 0.7930355985103207\n"
     ]
    }
   ],
   "source": [
    "print('Accuracy for train:', accuracy_score(y_train, clf.predict(X_train)))"
   ]
  },
  {
   "cell_type": "code",
   "execution_count": 58,
   "metadata": {
    "colab": {
     "base_uri": "https://localhost:8080/",
     "height": 472
    },
    "execution": {
     "iopub.execute_input": "2023-08-28T06:53:47.167416Z",
     "iopub.status.busy": "2023-08-28T06:53:47.167039Z",
     "iopub.status.idle": "2023-08-28T06:53:47.537387Z",
     "shell.execute_reply": "2023-08-28T06:53:47.536430Z",
     "shell.execute_reply.started": "2023-08-28T06:53:47.167381Z"
    },
    "id": "cg-xtj8DnbQw",
    "outputId": "81adebe9-1237-4b2e-c529-b216a50c8cbf"
   },
   "outputs": [
    {
     "data": {
      "text/plain": [
       "<sklearn.metrics._plot.confusion_matrix.ConfusionMatrixDisplay at 0x19dfb5c3d30>"
      ]
     },
     "execution_count": 58,
     "metadata": {},
     "output_type": "execute_result"
    },
    {
     "data": {
      "image/png": "[encoded data removed]",
      "text/plain": [
       "<Figure size 640x480 with 2 Axes>"
      ]
     },
     "metadata": {},
     "output_type": "display_data"
    }
   ],
   "source": [
    "ConfusionMatrixDisplay.from_estimator(clf,X_train_scaled, y_train, normalize='true')"
   ]
  },
  {
   "cell_type": "code",
   "execution_count": 59,
   "metadata": {
    "colab": {
     "base_uri": "https://localhost:8080/",
     "height": 466
    },
    "execution": {
     "iopub.execute_input": "2023-08-28T06:53:47.539279Z",
     "iopub.status.busy": "2023-08-28T06:53:47.538885Z",
     "iopub.status.idle": "2023-08-28T06:53:47.855552Z",
     "shell.execute_reply": "2023-08-28T06:53:47.854571Z",
     "shell.execute_reply.started": "2023-08-28T06:53:47.539243Z"
    },
    "id": "jpAjUFdAnbQw",
    "outputId": "4eeb29c9-91aa-4aad-b03d-477f7c577e33"
   },
   "outputs": [
    {
     "data": {
      "text/plain": [
       "<sklearn.metrics._plot.confusion_matrix.ConfusionMatrixDisplay at 0x19dfb5c2e60>"
      ]
     },
     "execution_count": 59,
     "metadata": {},
     "output_type": "execute_result"
    },
    {
     "data": {
      "image/png": "[encoded data removed]",
      "text/plain": [
       "<Figure size 640x480 with 2 Axes>"
      ]
     },
     "metadata": {},
     "output_type": "display_data"
    }
   ],
   "source": [
    "ConfusionMatrixDisplay.from_estimator(clf,X_test_scaled, y_test, normalize='true')"
   ]
  },
  {
   "cell_type": "code",
   "execution_count": 60,
   "metadata": {
    "colab": {
     "base_uri": "https://localhost:8080/",
     "height": 75
    },
    "execution": {
     "iopub.execute_input": "2023-08-28T06:53:47.857397Z",
     "iopub.status.busy": "2023-08-28T06:53:47.857021Z",
     "iopub.status.idle": "2023-08-28T06:53:57.522904Z",
     "shell.execute_reply": "2023-08-28T06:53:57.521780Z",
     "shell.execute_reply.started": "2023-08-28T06:53:47.857363Z"
    },
    "id": "uyu9iV17nbQx",
    "outputId": "f2a99418-a545-4f50-f377-748192924107"
   },
   "outputs": [
    {
     "data": {
      "text/html": [
       "<style>#sk-container-id-2 {color: black;}#sk-container-id-2 pre{padding: 0;}#sk-container-id-2 div.sk-toggleable {background-color: white;}#sk-container-id-2 label.sk-toggleable__label {cursor: pointer;display: block;width: 100%;margin-bottom: 0;padding: 0.3em;box-sizing: border-box;text-align: center;}#sk-container-id-2 label.sk-toggleable__label-arrow:before {content: \"▸\";float: left;margin-right: 0.25em;color: #696969;}#sk-container-id-2 label.sk-toggleable__label-arrow:hover:before {color: black;}#sk-container-id-2 div.sk-estimator:hover label.sk-toggleable__label-arrow:before {color: black;}#sk-container-id-2 div.sk-toggleable__content {max-height: 0;max-width: 0;overflow: hidden;text-align: left;background-color: #f0f8ff;}#sk-container-id-2 div.sk-toggleable__content pre {margin: 0.2em;color: black;border-radius: 0.25em;background-color: #f0f8ff;}#sk-container-id-2 input.sk-toggleable__control:checked~div.sk-toggleable__content {max-height: 200px;max-width: 100%;overflow: auto;}#sk-container-id-2 input.sk-toggleable__control:checked~label.sk-toggleable__label-arrow:before {content: \"▾\";}#sk-container-id-2 div.sk-estimator input.sk-toggleable__control:checked~label.sk-toggleable__label {background-color: #d4ebff;}#sk-container-id-2 div.sk-label input.sk-toggleable__control:checked~label.sk-toggleable__label {background-color: #d4ebff;}#sk-container-id-2 input.sk-hidden--visually {border: 0;clip: rect(1px 1px 1px 1px);clip: rect(1px, 1px, 1px, 1px);height: 1px;margin: -1px;overflow: hidden;padding: 0;position: absolute;width: 1px;}#sk-container-id-2 div.sk-estimator {font-family: monospace;background-color: #f0f8ff;border: 1px dotted black;border-radius: 0.25em;box-sizing: border-box;margin-bottom: 0.5em;}#sk-container-id-2 div.sk-estimator:hover {background-color: #d4ebff;}#sk-container-id-2 div.sk-parallel-item::after {content: \"\";width: 100%;border-bottom: 1px solid gray;flex-grow: 1;}#sk-container-id-2 div.sk-label:hover label.sk-toggleable__label {background-color: #d4ebff;}#sk-container-id-2 div.sk-serial::before {content: \"\";position: absolute;border-left: 1px solid gray;box-sizing: border-box;top: 0;bottom: 0;left: 50%;z-index: 0;}#sk-container-id-2 div.sk-serial {display: flex;flex-direction: column;align-items: center;background-color: white;padding-right: 0.2em;padding-left: 0.2em;position: relative;}#sk-container-id-2 div.sk-item {position: relative;z-index: 1;}#sk-container-id-2 div.sk-parallel {display: flex;align-items: stretch;justify-content: center;background-color: white;position: relative;}#sk-container-id-2 div.sk-item::before, #sk-container-id-2 div.sk-parallel-item::before {content: \"\";position: absolute;border-left: 1px solid gray;box-sizing: border-box;top: 0;bottom: 0;left: 50%;z-index: -1;}#sk-container-id-2 div.sk-parallel-item {display: flex;flex-direction: column;z-index: 1;position: relative;background-color: white;}#sk-container-id-2 div.sk-parallel-item:first-child::after {align-self: flex-end;width: 50%;}#sk-container-id-2 div.sk-parallel-item:last-child::after {align-self: flex-start;width: 50%;}#sk-container-id-2 div.sk-parallel-item:only-child::after {width: 0;}#sk-container-id-2 div.sk-dashed-wrapped {border: 1px dashed gray;margin: 0 0.4em 0.5em 0.4em;box-sizing: border-box;padding-bottom: 0.4em;background-color: white;}#sk-container-id-2 div.sk-label label {font-family: monospace;font-weight: bold;display: inline-block;line-height: 1.2em;}#sk-container-id-2 div.sk-label-container {text-align: center;}#sk-container-id-2 div.sk-container {/* jupyter's `normalize.less` sets `[hidden] { display: none; }` but bootstrap.min.css set `[hidden] { display: none !important; }` so we also need the `!important` here to be able to override the default hidden behavior on the sphinx rendered scikit-learn.org. See: https://github.com/scikit-learn/scikit-learn/issues/21755 */display: inline-block !important;position: relative;}#sk-container-id-2 div.sk-text-repr-fallback {display: none;}</style><div id=\"sk-container-id-2\" class=\"sk-top-container\"><div class=\"sk-text-repr-fallback\"><pre>DecisionTreeClassifier(random_state=42)</pre><b>In a Jupyter environment, please rerun this cell to show the HTML representation or trust the notebook. <br />On GitHub, the HTML representation is unable to render, please try loading this page with nbviewer.org.</b></div><div class=\"sk-container\" hidden><div class=\"sk-item\"><div class=\"sk-estimator sk-toggleable\"><input class=\"sk-toggleable__control sk-hidden--visually\" id=\"sk-estimator-id-2\" type=\"checkbox\" checked><label for=\"sk-estimator-id-2\" class=\"sk-toggleable__label sk-toggleable__label-arrow\">DecisionTreeClassifier</label><div class=\"sk-toggleable__content\"><pre>DecisionTreeClassifier(random_state=42)</pre></div></div></div></div></div>"
      ],
      "text/plain": [
       "DecisionTreeClassifier(random_state=42)"
      ]
     },
     "execution_count": 60,
     "metadata": {},
     "output_type": "execute_result"
    }
   ],
   "source": [
    "model = DecisionTreeClassifier(random_state=42)\n",
    "\n",
    "# Train the model on the training data\n",
    "model.fit(X_smote, y_smote)"
   ]
  },
  {
   "cell_type": "code",
   "execution_count": 61,
   "metadata": {
    "colab": {
     "base_uri": "https://localhost:8080/"
    },
    "execution": {
     "iopub.execute_input": "2023-08-28T06:53:57.524864Z",
     "iopub.status.busy": "2023-08-28T06:53:57.524469Z",
     "iopub.status.idle": "2023-08-28T06:53:57.538419Z",
     "shell.execute_reply": "2023-08-28T06:53:57.537273Z",
     "shell.execute_reply.started": "2023-08-28T06:53:57.524829Z"
    },
    "id": "3XOFIZXknbQx",
    "outputId": "a21773a3-3545-47b0-e05c-8f282e4be057"
   },
   "outputs": [
    {
     "name": "stdout",
     "output_type": "stream",
     "text": [
      "Accuracy for test: 0.7634340510222544\n"
     ]
    }
   ],
   "source": [
    "y_pred = model.predict(X_test)\n",
    "\n",
    "# Calculate accuracy\n",
    "print(\"Accuracy for test:\", accuracy_score(y_test, y_pred))"
   ]
  },
  {
   "cell_type": "code",
   "execution_count": 62,
   "metadata": {
    "colab": {
     "base_uri": "https://localhost:8080/"
    },
    "execution": {
     "iopub.execute_input": "2023-08-28T06:53:57.540672Z",
     "iopub.status.busy": "2023-08-28T06:53:57.540266Z",
     "iopub.status.idle": "2023-08-28T06:53:57.562386Z",
     "shell.execute_reply": "2023-08-28T06:53:57.561398Z",
     "shell.execute_reply.started": "2023-08-28T06:53:57.540636Z"
    },
    "id": "dYbrfsMonbQx",
    "outputId": "32e772b6-edaa-4030-a08c-33ad3e5300e7"
   },
   "outputs": [
    {
     "name": "stdout",
     "output_type": "stream",
     "text": [
      "Accuracy for train 0.7603621669707341\n"
     ]
    }
   ],
   "source": [
    "print('Accuracy for train', accuracy_score(y_train, model.predict(X_train)))"
   ]
  },
  {
   "cell_type": "code",
   "execution_count": 63,
   "metadata": {
    "colab": {
     "base_uri": "https://localhost:8080/",
     "height": 472
    },
    "execution": {
     "iopub.execute_input": "2023-08-28T06:53:57.564348Z",
     "iopub.status.busy": "2023-08-28T06:53:57.563912Z",
     "iopub.status.idle": "2023-08-28T06:53:57.914204Z",
     "shell.execute_reply": "2023-08-28T06:53:57.913264Z",
     "shell.execute_reply.started": "2023-08-28T06:53:57.564311Z"
    },
    "id": "dTT8KCd8nbQy",
    "outputId": "8a77d477-686b-4e00-ff40-eefeddf95532"
   },
   "outputs": [
    {
     "data": {
      "text/plain": [
       "<sklearn.metrics._plot.confusion_matrix.ConfusionMatrixDisplay at 0x19d901e88b0>"
      ]
     },
     "execution_count": 63,
     "metadata": {},
     "output_type": "execute_result"
    },
    {
     "data": {
      "image/png": "[encoded data removed]",
      "text/plain": [
       "<Figure size 640x480 with 2 Axes>"
      ]
     },
     "metadata": {},
     "output_type": "display_data"
    }
   ],
   "source": [
    "ConfusionMatrixDisplay.from_estimator(model,X_train_scaled, y_train, normalize='true')"
   ]
  },
  {
   "cell_type": "code",
   "execution_count": 64,
   "metadata": {
    "colab": {
     "base_uri": "https://localhost:8080/",
     "height": 466
    },
    "execution": {
     "iopub.execute_input": "2023-08-28T06:53:57.916189Z",
     "iopub.status.busy": "2023-08-28T06:53:57.915829Z",
     "iopub.status.idle": "2023-08-28T06:53:58.233031Z",
     "shell.execute_reply": "2023-08-28T06:53:58.232080Z",
     "shell.execute_reply.started": "2023-08-28T06:53:57.916154Z"
    },
    "id": "woeA7w27nbQy",
    "outputId": "f45bad07-cd45-407e-b6a7-bcdd30cd42e3"
   },
   "outputs": [
    {
     "data": {
      "text/plain": [
       "<sklearn.metrics._plot.confusion_matrix.ConfusionMatrixDisplay at 0x19d901644c0>"
      ]
     },
     "execution_count": 64,
     "metadata": {},
     "output_type": "execute_result"
    },
    {
     "data": {
      "image/png": "[encoded data removed]",
      "text/plain": [
       "<Figure size 640x480 with 2 Axes>"
      ]
     },
     "metadata": {},
     "output_type": "display_data"
    }
   ],
   "source": [
    "ConfusionMatrixDisplay.from_estimator(model,X_test_scaled, y_test, normalize='true')"
   ]
  },
  {
   "cell_type": "code",
   "execution_count": 65,
   "metadata": {
    "colab": {
     "base_uri": "https://localhost:8080/"
    },
    "id": "eIttWZ7InbQy",
    "outputId": "9d896972-be60-4ac8-e94c-20dbbd97cb09"
   },
   "outputs": [
    {
     "data": {
      "text/plain": [
       "['model.joblib']"
      ]
     },
     "execution_count": 65,
     "metadata": {},
     "output_type": "execute_result"
    }
   ],
   "source": [
    "joblib.dump(model, \"model.joblib\")"
   ]
  },
  {
   "cell_type": "code",
   "execution_count": 66,
   "metadata": {},
   "outputs": [
    {
     "data": {
      "text/html": [
       "<div>\n",
       "<style scoped>\n",
       "    .dataframe tbody tr th:only-of-type {\n",
       "        vertical-align: middle;\n",
       "    }\n",
       "\n",
       "    .dataframe tbody tr th {\n",
       "        vertical-align: top;\n",
       "    }\n",
       "\n",
       "    .dataframe thead th {\n",
       "        text-align: right;\n",
       "    }\n",
       "</style>\n",
       "<table border=\"1\" class=\"dataframe\">\n",
       "  <thead>\n",
       "    <tr style=\"text-align: right;\">\n",
       "      <th></th>\n",
       "      <th>ACTOR1</th>\n",
       "      <th>ACTOR2</th>\n",
       "      <th>ACTOR_DYAD_ID</th>\n",
       "      <th>ADMIN1</th>\n",
       "      <th>ADMIN2</th>\n",
       "      <th>ADMIN3</th>\n",
       "      <th>COUNTRY</th>\n",
       "      <th>EVENT_TYPE</th>\n",
       "      <th>GEO_PRECISION</th>\n",
       "      <th>GWNO</th>\n",
       "      <th>INTER1</th>\n",
       "      <th>INTER2</th>\n",
       "      <th>INTERACTION</th>\n",
       "      <th>LATITUDE</th>\n",
       "      <th>LOCATION</th>\n",
       "      <th>LONGITUDE</th>\n",
       "      <th>TIME_PRECISION</th>\n",
       "      <th>YEAR</th>\n",
       "      <th>month</th>\n",
       "      <th>day</th>\n",
       "    </tr>\n",
       "  </thead>\n",
       "  <tbody>\n",
       "    <tr>\n",
       "      <th>0</th>\n",
       "      <td>Police Forces of Algeria (1999-)</td>\n",
       "      <td>Civilians (Algeria)</td>\n",
       "      <td>NaN</td>\n",
       "      <td>Tizi Ouzou</td>\n",
       "      <td>Beni-Douala</td>\n",
       "      <td>NaN</td>\n",
       "      <td>Algeria</td>\n",
       "      <td>Violence against civilians</td>\n",
       "      <td>1</td>\n",
       "      <td>615</td>\n",
       "      <td>1</td>\n",
       "      <td>7</td>\n",
       "      <td>17</td>\n",
       "      <td>36.61954</td>\n",
       "      <td>Beni Douala</td>\n",
       "      <td>4.08282</td>\n",
       "      <td>1</td>\n",
       "      <td>2001</td>\n",
       "      <td>4</td>\n",
       "      <td>18</td>\n",
       "    </tr>\n",
       "    <tr>\n",
       "      <th>1</th>\n",
       "      <td>Rioters (Algeria)</td>\n",
       "      <td>Police Forces of Algeria (1999-)</td>\n",
       "      <td>NaN</td>\n",
       "      <td>Tizi Ouzou</td>\n",
       "      <td>Tizi Ouzou</td>\n",
       "      <td>NaN</td>\n",
       "      <td>Algeria</td>\n",
       "      <td>Riots/Protests</td>\n",
       "      <td>3</td>\n",
       "      <td>615</td>\n",
       "      <td>5</td>\n",
       "      <td>1</td>\n",
       "      <td>15</td>\n",
       "      <td>36.71183</td>\n",
       "      <td>Tizi Ouzou</td>\n",
       "      <td>4.04591</td>\n",
       "      <td>1</td>\n",
       "      <td>2001</td>\n",
       "      <td>4</td>\n",
       "      <td>19</td>\n",
       "    </tr>\n",
       "    <tr>\n",
       "      <th>2</th>\n",
       "      <td>Protesters (Algeria)</td>\n",
       "      <td>NaN</td>\n",
       "      <td>NaN</td>\n",
       "      <td>Bejaia</td>\n",
       "      <td>Amizour</td>\n",
       "      <td>NaN</td>\n",
       "      <td>Algeria</td>\n",
       "      <td>Riots/Protests</td>\n",
       "      <td>1</td>\n",
       "      <td>615</td>\n",
       "      <td>6</td>\n",
       "      <td>0</td>\n",
       "      <td>60</td>\n",
       "      <td>36.64022</td>\n",
       "      <td>Amizour</td>\n",
       "      <td>4.90131</td>\n",
       "      <td>1</td>\n",
       "      <td>2001</td>\n",
       "      <td>4</td>\n",
       "      <td>20</td>\n",
       "    </tr>\n",
       "    <tr>\n",
       "      <th>3</th>\n",
       "      <td>Rioters (Algeria)</td>\n",
       "      <td>Police Forces of Algeria (1999-)</td>\n",
       "      <td>NaN</td>\n",
       "      <td>Bejaia</td>\n",
       "      <td>Amizour</td>\n",
       "      <td>NaN</td>\n",
       "      <td>Algeria</td>\n",
       "      <td>Riots/Protests</td>\n",
       "      <td>1</td>\n",
       "      <td>615</td>\n",
       "      <td>5</td>\n",
       "      <td>1</td>\n",
       "      <td>15</td>\n",
       "      <td>36.64022</td>\n",
       "      <td>Amizour</td>\n",
       "      <td>4.90131</td>\n",
       "      <td>1</td>\n",
       "      <td>2001</td>\n",
       "      <td>4</td>\n",
       "      <td>21</td>\n",
       "    </tr>\n",
       "    <tr>\n",
       "      <th>4</th>\n",
       "      <td>Rioters (Algeria)</td>\n",
       "      <td>Police Forces of Algeria (1999-)</td>\n",
       "      <td>NaN</td>\n",
       "      <td>Tizi Ouzou</td>\n",
       "      <td>Beni-Douala</td>\n",
       "      <td>NaN</td>\n",
       "      <td>Algeria</td>\n",
       "      <td>Riots/Protests</td>\n",
       "      <td>1</td>\n",
       "      <td>615</td>\n",
       "      <td>5</td>\n",
       "      <td>1</td>\n",
       "      <td>15</td>\n",
       "      <td>36.61954</td>\n",
       "      <td>Beni Douala</td>\n",
       "      <td>4.08282</td>\n",
       "      <td>1</td>\n",
       "      <td>2001</td>\n",
       "      <td>4</td>\n",
       "      <td>21</td>\n",
       "    </tr>\n",
       "  </tbody>\n",
       "</table>\n",
       "</div>"
      ],
      "text/plain": [
       "                             ACTOR1                            ACTOR2  \\\n",
       "0  Police Forces of Algeria (1999-)               Civilians (Algeria)   \n",
       "1                 Rioters (Algeria)  Police Forces of Algeria (1999-)   \n",
       "2              Protesters (Algeria)                               NaN   \n",
       "3                 Rioters (Algeria)  Police Forces of Algeria (1999-)   \n",
       "4                 Rioters (Algeria)  Police Forces of Algeria (1999-)   \n",
       "\n",
       "  ACTOR_DYAD_ID      ADMIN1       ADMIN2 ADMIN3  COUNTRY  \\\n",
       "0           NaN  Tizi Ouzou  Beni-Douala    NaN  Algeria   \n",
       "1           NaN  Tizi Ouzou   Tizi Ouzou    NaN  Algeria   \n",
       "2           NaN      Bejaia      Amizour    NaN  Algeria   \n",
       "3           NaN      Bejaia      Amizour    NaN  Algeria   \n",
       "4           NaN  Tizi Ouzou  Beni-Douala    NaN  Algeria   \n",
       "\n",
       "                   EVENT_TYPE  GEO_PRECISION  GWNO  INTER1  INTER2  \\\n",
       "0  Violence against civilians              1   615       1       7   \n",
       "1              Riots/Protests              3   615       5       1   \n",
       "2              Riots/Protests              1   615       6       0   \n",
       "3              Riots/Protests              1   615       5       1   \n",
       "4              Riots/Protests              1   615       5       1   \n",
       "\n",
       "   INTERACTION  LATITUDE     LOCATION LONGITUDE  TIME_PRECISION  YEAR  month  \\\n",
       "0           17  36.61954  Beni Douala   4.08282               1  2001      4   \n",
       "1           15  36.71183   Tizi Ouzou   4.04591               1  2001      4   \n",
       "2           60  36.64022      Amizour   4.90131               1  2001      4   \n",
       "3           15  36.64022      Amizour   4.90131               1  2001      4   \n",
       "4           15  36.61954  Beni Douala   4.08282               1  2001      4   \n",
       "\n",
       "   day  \n",
       "0   18  \n",
       "1   19  \n",
       "2   20  \n",
       "3   21  \n",
       "4   21  "
      ]
     },
     "execution_count": 66,
     "metadata": {},
     "output_type": "execute_result"
    }
   ],
   "source": [
    "X.head()"
   ]
  },
  {
   "cell_type": "code",
   "execution_count": null,
   "metadata": {},
   "outputs": [],
   "source": []
  }
 ],
 "metadata": {
  "colab": {
   "provenance": []
  },
  "kernelspec": {
   "display_name": "Python 3 (ipykernel)",
   "language": "python",
   "name": "python3"
  },
  "language_info": {
   "codemirror_mode": {
    "name": "ipython",
    "version": 3
   },
   "file_extension": ".py",
   "mimetype": "text/x-python",
   "name": "python",
   "nbconvert_exporter": "python",
   "pygments_lexer": "ipython3",
   "version": "3.10.9"
  }
 },
 "nbformat": 4,
 "nbformat_minor": 1
}
